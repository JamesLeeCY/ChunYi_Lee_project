{
 "cells": [
  {
   "cell_type": "code",
   "execution_count": 19,
   "id": "2109d475",
   "metadata": {},
   "outputs": [],
   "source": [
    "import pandas as pd\n",
    "import numpy as np\n",
    "import matplotlib.pyplot as plt\n",
    "from sklearn.datasets import load_iris\n",
    "# optional magic command\n",
    "%matplotlib inline"
   ]
  },
  {
   "cell_type": "code",
   "execution_count": 20,
   "id": "1b5c733d",
   "metadata": {},
   "outputs": [],
   "source": [
    "# load data\n",
    "\n",
    "iris = load_iris()"
   ]
  },
  {
   "cell_type": "code",
   "execution_count": 27,
   "id": "fd31f21b",
   "metadata": {},
   "outputs": [
    {
     "data": {
      "text/plain": [
       "dict_keys(['data', 'target', 'frame', 'target_names', 'DESCR', 'feature_names', 'filename', 'data_module'])"
      ]
     },
     "execution_count": 27,
     "metadata": {},
     "output_type": "execute_result"
    }
   ],
   "source": [
    "# Explore the dataset using .keys()\n",
    "\n",
    "iris.keys()"
   ]
  },
  {
   "cell_type": "code",
   "execution_count": 29,
   "id": "9dd3775b",
   "metadata": {},
   "outputs": [
    {
     "name": "stdout",
     "output_type": "stream",
     "text": [
      "(150, 4)\n",
      "<class 'numpy.ndarray'>\n"
     ]
    }
   ],
   "source": [
    "# Print the shape and type of the 'data'\n",
    "\n",
    "print(iris['data'].shape)\n",
    "print(type(iris['data']))"
   ]
  },
  {
   "cell_type": "code",
   "execution_count": 37,
   "id": "509bc550",
   "metadata": {},
   "outputs": [
    {
     "name": "stdout",
     "output_type": "stream",
     "text": [
      "['sepal length (cm)', 'sepal width (cm)', 'petal length (cm)', 'petal width (cm)']\n"
     ]
    }
   ],
   "source": [
    "# Declare two variables that store 'data' and 'feature_names'\n",
    "\n",
    "D = iris['data']\n",
    "FN = iris['feature_names']\n",
    "\n",
    "print(FN)"
   ]
  },
  {
   "cell_type": "code",
   "execution_count": 113,
   "id": "b5c39816",
   "metadata": {},
   "outputs": [
    {
     "name": "stdout",
     "output_type": "stream",
     "text": [
      "     sepal length (cm)  sepal width (cm)  petal length (cm)  petal width (cm)\n",
      "0                  5.1               3.5                1.4               0.2\n",
      "1                  4.9               3.0                1.4               0.2\n",
      "2                  4.7               3.2                1.3               0.2\n",
      "3                  4.6               3.1                1.5               0.2\n",
      "4                  5.0               3.6                1.4               0.2\n",
      "..                 ...               ...                ...               ...\n",
      "145                6.7               3.0                5.2               2.3\n",
      "146                6.3               2.5                5.0               1.9\n",
      "147                6.5               3.0                5.2               2.0\n",
      "148                6.2               3.4                5.4               2.3\n",
      "149                5.9               3.0                5.1               1.8\n",
      "\n",
      "[150 rows x 4 columns]\n"
     ]
    }
   ],
   "source": [
    "# Create a pandas dataframe with 'data' and use 'feature_names' for the column names\n",
    "\n",
    "df = pd.DataFrame(data=D, columns=FN)\n",
    "print(df)"
   ]
  },
  {
   "cell_type": "code",
   "execution_count": 116,
   "id": "db7db31c",
   "metadata": {},
   "outputs": [
    {
     "data": {
      "text/plain": [
       "3.2294578991136653"
      ]
     },
     "execution_count": 116,
     "metadata": {},
     "output_type": "execute_result"
    }
   ],
   "source": [
    "# Get the summary statistics of this dataframe using .describe()\n",
    "\n",
    "df.describe()\n",
    "df.iloc[:,0].std()*3.9"
   ]
  },
  {
   "cell_type": "code",
   "execution_count": 87,
   "id": "e9a82d55",
   "metadata": {},
   "outputs": [
    {
     "name": "stdout",
     "output_type": "stream",
     "text": [
      "    sepal length (cm)  sepal width (cm)  petal length (cm)  petal width (cm)\n",
      "0                 5.1               3.5                1.4               0.2\n",
      "1                 4.9               3.0                1.4               0.2\n",
      "2                 4.7               3.2                1.3               0.2\n",
      "3                 4.6               3.1                1.5               0.2\n",
      "4                 5.0               3.6                1.4               0.2\n",
      "5                 5.4               3.9                1.7               0.4\n",
      "6                 4.6               3.4                1.4               0.3\n",
      "7                 5.0               3.4                1.5               0.2\n",
      "8                 4.4               2.9                1.4               0.2\n",
      "9                 4.9               3.1                1.5               0.1\n",
      "10                5.4               3.7                1.5               0.2\n",
      "11                4.8               3.4                1.6               0.2\n",
      "12                4.8               3.0                1.4               0.1\n",
      "13                4.3               3.0                1.1               0.1\n",
      "14                5.8               4.0                1.2               0.2\n",
      "15                5.7               4.4                1.5               0.4\n",
      "16                5.4               3.9                1.3               0.4\n",
      "17                5.1               3.5                1.4               0.3\n",
      "18                5.7               3.8                1.7               0.3\n",
      "19                5.1               3.8                1.5               0.3\n",
      "20                5.4               3.4                1.7               0.2\n",
      "21                5.1               3.7                1.5               0.4\n",
      "22                4.6               3.6                1.0               0.2\n",
      "23                5.1               3.3                1.7               0.5\n",
      "24                4.8               3.4                1.9               0.2\n",
      "25                5.0               3.0                1.6               0.2\n",
      "26                5.0               3.4                1.6               0.4\n",
      "27                5.2               3.5                1.5               0.2\n",
      "28                5.2               3.4                1.4               0.2\n",
      "29                4.7               3.2                1.6               0.2\n",
      "30                4.8               3.1                1.6               0.2\n",
      "31                5.4               3.4                1.5               0.4\n",
      "32                5.2               4.1                1.5               0.1\n",
      "33                5.5               4.2                1.4               0.2\n",
      "34                4.9               3.1                1.5               0.2\n",
      "35                5.0               3.2                1.2               0.2\n",
      "36                5.5               3.5                1.3               0.2\n",
      "37                4.9               3.6                1.4               0.1\n",
      "38                4.4               3.0                1.3               0.2\n",
      "39                5.1               3.4                1.5               0.2\n",
      "40                5.0               3.5                1.3               0.3\n",
      "41                4.5               2.3                1.3               0.3\n",
      "42                4.4               3.2                1.3               0.2\n",
      "43                5.0               3.5                1.6               0.6\n",
      "44                5.1               3.8                1.9               0.4\n",
      "45                4.8               3.0                1.4               0.3\n",
      "46                5.1               3.8                1.6               0.2\n",
      "47                4.6               3.2                1.4               0.2\n",
      "48                5.3               3.7                1.5               0.2\n",
      "49                5.0               3.3                1.4               0.2\n"
     ]
    }
   ],
   "source": [
    "# Subset the dataframe to keep only the first 50 rows\n",
    "\n",
    "df2 = df.iloc[0:50,:]\n",
    "print(df2)"
   ]
  },
  {
   "cell_type": "code",
   "execution_count": 155,
   "id": "b3300d15",
   "metadata": {},
   "outputs": [
    {
     "name": "stdout",
     "output_type": "stream",
     "text": [
      "2.6138754342196684 9.072791232446999\n",
      "(150,)\n",
      "Series([], Name: sepal length (cm), dtype: float64)\n",
      "[]\n"
     ]
    }
   ],
   "source": [
    "# Check if there are any extreme sepal length values (extreme value criterion: less or greater than 3.9 standard diviations away from the mean)\n",
    "\n",
    "# Calculate the 3.9 SD +/- range of the data\n",
    "low = df.iloc[:,0].mean() - (df.iloc[:,0].std() * 3.9)\n",
    "high = df.iloc[:,0].mean() + (df.iloc[:,0].std() * 3.9)\n",
    "print(low, high)\n",
    "\n",
    "# Create a mask for the outliers\n",
    "mask = np.logical_or(df.iloc[:,0] > high, df.iloc[:,0] < low)\n",
    "print(mask.shape)\n",
    "\n",
    "# Mask the data and check the values in the first column that are \"outliers\"\n",
    "print(df.iloc[mask.to_numpy().nonzero()[0],0])\n"
   ]
  },
  {
   "cell_type": "code",
   "execution_count": 132,
   "id": "874b6bcc",
   "metadata": {},
   "outputs": [
    {
     "data": {
      "text/plain": [
       "'0      False\\n1      False\\n2      False\\n3      False\\n4      False\\n5      False\\n6      False\\n7      False\\n8      False\\n9      False\\n10     False\\n11     False\\n12     False\\n13     False\\n14     False\\n15     False\\n16     False\\n17     False\\n18     False\\n19     False\\n20     False\\n21     False\\n22     False\\n23     False\\n24     False\\n25     False\\n26     False\\n27     False\\n28     False\\n29     False\\n30     False\\n31     False\\n32     False\\n33     False\\n34     False\\n35     False\\n36     False\\n37     False\\n38     False\\n39     False\\n40     False\\n41     False\\n42     False\\n43     False\\n44     False\\n45     False\\n46     False\\n47     False\\n48     False\\n49     False\\n50     False\\n51     False\\n52     False\\n53     False\\n54     False\\n55     False\\n56     False\\n57     False\\n58     False\\n59     False\\n60     False\\n61     False\\n62     False\\n63     False\\n64     False\\n65     False\\n66     False\\n67     False\\n68     False\\n69     False\\n70     False\\n71     False\\n72     False\\n73     False\\n74     False\\n75     False\\n76     False\\n77     False\\n78     False\\n79     False\\n80     False\\n81     False\\n82     False\\n83     False\\n84     False\\n85     False\\n86     False\\n87     False\\n88     False\\n89     False\\n90     False\\n91     False\\n92     False\\n93     False\\n94     False\\n95     False\\n96     False\\n97     False\\n98     False\\n99     False\\n100    False\\n101    False\\n102    False\\n103    False\\n104    False\\n105    False\\n106    False\\n107    False\\n108    False\\n109    False\\n110    False\\n111    False\\n112    False\\n113    False\\n114    False\\n115    False\\n116    False\\n117    False\\n118    False\\n119    False\\n120    False\\n121    False\\n122    False\\n123    False\\n124    False\\n125    False\\n126    False\\n127    False\\n128    False\\n129    False\\n130    False\\n131    False\\n132    False\\n133    False\\n134    False\\n135    False\\n136    False\\n137    False\\n138    False\\n139    False\\n140    False\\n141    False\\n142    False\\n143    False\\n144    False\\n145    False\\n146    False\\n147    False\\n148    False\\n149    False'"
      ]
     },
     "metadata": {},
     "output_type": "display_data"
    }
   ],
   "source": [
    "not mask.all()\n",
    "display(mask.to_string())"
   ]
  },
  {
   "cell_type": "code",
   "execution_count": 156,
   "id": "a3125748",
   "metadata": {},
   "outputs": [
    {
     "name": "stdout",
     "output_type": "stream",
     "text": [
      "1.3574548220802116 4.757211844586456\n",
      "Series([], Name: sepal width (cm), dtype: float64)\n",
      "-3.1266631097119197 10.64266310971192\n",
      "Series([], Name: petal length (cm), dtype: float64)\n",
      "-1.7733935756120176 4.172060242278684\n",
      "Series([], Name: petal width (cm), dtype: float64)\n"
     ]
    }
   ],
   "source": [
    "# What about the other three features? Define a function that checks for extreme values for each of the features.\n",
    "\n",
    "def check_extreme(data, col):\n",
    "    \"\"\"\n",
    "    function that checks for extreme values for each of the features\n",
    "    \n",
    "    data: dataset to be used\n",
    "    col: colume number for the specific features\n",
    "    \n",
    "    \"\"\"\n",
    "    # Calculate the 3.9 SD +/- range of the data\n",
    "    low = data.iloc[:,col].mean() - (data.iloc[:,col].std() * 3.9)\n",
    "    high = data.iloc[:,col].mean() + (data.iloc[:,col].std() * 3.9)\n",
    "    print(low, high)\n",
    "\n",
    "    # Create a mask for the outliers\n",
    "    mask = np.logical_or(data.iloc[:,col] > high, data.iloc[:,col] < low)\n",
    "    \n",
    "    # Mask the data and check the values in the first column that are \"outliers\"\n",
    "    print(data.iloc[mask.to_numpy().nonzero()[0], col])\n",
    "\n",
    "check_extreme(df, 1)\n",
    "check_extreme(df, 2)\n",
    "check_extreme(df, 3)\n"
   ]
  },
  {
   "cell_type": "code",
   "execution_count": 167,
   "id": "273dc5f2",
   "metadata": {},
   "outputs": [
    {
     "data": {
      "text/plain": [
       "<Axes: >"
      ]
     },
     "execution_count": 167,
     "metadata": {},
     "output_type": "execute_result"
    },
    {
     "data": {
      "image/png": "[encoded data removed]",
      "text/plain": [
       "<Figure size 640x480 with 1 Axes>"
      ]
     },
     "metadata": {},
     "output_type": "display_data"
    }
   ],
   "source": [
    "# Check out how to plot boxplots at matplotlib\n",
    "\n",
    "df.boxplot()"
   ]
  },
  {
   "cell_type": "code",
   "execution_count": 174,
   "id": "abf98c91",
   "metadata": {},
   "outputs": [
    {
     "data": {
      "image/png": "[encoded data removed]",
      "text/plain": [
       "<Figure size 640x480 with 1 Axes>"
      ]
     },
     "metadata": {},
     "output_type": "display_data"
    }
   ],
   "source": [
    "# Boxplot the distribution of the features. Please do add labels for the axes\n",
    "\n",
    "fig = plt.figure()\n",
    "fig.suptitle('Boxplot features', fontsize=14, fontweight='bold')\n",
    "\n",
    "ax = df.boxplot()\n",
    "\n",
    "ax.set_xlabel('features')\n",
    "ax.set_ylabel('value')\n",
    "\n",
    "plt.show()"
   ]
  },
  {
   "cell_type": "code",
   "execution_count": 178,
   "id": "23563fc3",
   "metadata": {},
   "outputs": [],
   "source": [
    "# Save the dataframe as a csv file and the boxplot as a png file\n",
    "\n",
    "np.savetxt('iris_df.csv', df)\n",
    "fig.savefig('iris_df.png')"
   ]
  }
 ],
 "metadata": {
  "kernelspec": {
   "display_name": "Python 3 (ipykernel)",
   "language": "python",
   "name": "python3"
  },
  "language_info": {
   "codemirror_mode": {
    "name": "ipython",
    "version": 3
   },
   "file_extension": ".py",
   "mimetype": "text/x-python",
   "name": "python",
   "nbconvert_exporter": "python",
   "pygments_lexer": "ipython3",
   "version": "3.10.9"
  }
 },
 "nbformat": 4,
 "nbformat_minor": 5
}
