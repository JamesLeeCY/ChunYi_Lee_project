{
 "cells": [
  {
   "cell_type": "code",
   "execution_count": null,
   "id": "1023e4ed",
   "metadata": {},
   "outputs": [],
   "source": [
    "import pandas as pd\n",
    "import numpy as np\n",
    "import matplotlib.pyplot as plt\n",
    "from sklearn.datasets import load_iris\n",
    "# optional magic command\n",
    "%matplotlib inline"
   ]
  },
  {
   "cell_type": "code",
   "execution_count": null,
   "id": "6c2265c2",
   "metadata": {},
   "outputs": [],
   "source": [
    "iris = load_iris()"
   ]
  },
  {
   "cell_type": "code",
   "execution_count": 17,
   "id": "cb05e317",
   "metadata": {},
   "outputs": [
    {
     "name": "stdout",
     "output_type": "stream",
     "text": [
      "one\n",
      "2.0\n",
      "three\n",
      "4.0\n",
      "['oneone', 4.0, 'threethree', 8.0]\n"
     ]
    }
   ],
   "source": [
    "random_stuff = [1, 2.0, 'three']\n",
    "random_stuff[:2]\n",
    "random_stuff[-2:]\n",
    "random_stuff.append(4.0)\n",
    "random_stuff\n",
    "random_stuff[0] = 'one'\n",
    "random_stuff\n",
    "\n",
    "for element in random_stuff:\n",
    "    print(element)\n",
    "    \n",
    "double_stuff = [element * 2 for element in random_stuff]\n",
    "print(double_stuff)"
   ]
  },
  {
   "cell_type": "code",
   "execution_count": 10,
   "id": "3987a42e",
   "metadata": {},
   "outputs": [
    {
     "data": {
      "text/plain": [
       "{'apple': 0.65,\n",
       " 'mango': 1.5,\n",
       " 'strawberry': '$3/lb',\n",
       " 'durian': 'unavailable',\n",
       " 'pear': 1.0}"
      ]
     },
     "execution_count": 10,
     "metadata": {},
     "output_type": "execute_result"
    }
   ],
   "source": [
    "# A dictionary is an unordered mapping from keys to values\n",
    "fruit_prices = {\n",
    "    'apple': 0.65,\n",
    "    'mango': 1.50,\n",
    "    'strawberry': '$3/lb',\n",
    "    'durian': 'unavailable'\n",
    "}\n",
    "\n",
    "fruit_prices['mango']\n",
    "fruit_prices['pear'] = 1.00\n",
    "fruit_prices"
   ]
  },
  {
   "cell_type": "code",
   "execution_count": 15,
   "id": "8e4d5160",
   "metadata": {},
   "outputs": [
    {
     "data": {
      "text/plain": [
       "[1, 2, 1, 2]"
      ]
     },
     "execution_count": 15,
     "metadata": {},
     "output_type": "execute_result"
    }
   ],
   "source": [
    "2.0 * 2\n",
    "'test' * 2\n",
    "[1, 2] * 2"
   ]
  },
  {
   "cell_type": "code",
   "execution_count": 18,
   "id": "9cc4f174",
   "metadata": {},
   "outputs": [
    {
     "name": "stdout",
     "output_type": "stream",
     "text": [
      "i is 0\n",
      "i is 1\n",
      "i is 2\n",
      "i is 3\n",
      "i is 4\n"
     ]
    }
   ],
   "source": [
    "i = 0\n",
    "while i < 5:\n",
    "    print('i is {}'.format(i))\n",
    "    i = i + 1"
   ]
  },
  {
   "cell_type": "code",
   "execution_count": 19,
   "id": "6a98f6c7",
   "metadata": {},
   "outputs": [
    {
     "name": "stdout",
     "output_type": "stream",
     "text": [
      "3.141592653589793\n"
     ]
    }
   ],
   "source": [
    "import math\n",
    "print(math.pi)"
   ]
  },
  {
   "cell_type": "code",
   "execution_count": 21,
   "id": "d3b103f5",
   "metadata": {},
   "outputs": [
    {
     "data": {
      "text/plain": [
       "10.122380952955181"
      ]
     },
     "execution_count": 21,
     "metadata": {},
     "output_type": "execute_result"
    }
   ],
   "source": [
    "import random\n",
    "\n",
    "def add_noise(x, mu, sd):\n",
    "    \"\"\"\n",
    "    Adds gaussian noise to the input.\n",
    "\n",
    "    Parameters\n",
    "    ----------\n",
    "    x : number\n",
    "        The number to add noise to\n",
    "    mu : float\n",
    "        The mean of the gaussian noise distribution\n",
    "    sd : float\n",
    "        The standard deviation of the noise distribution\n",
    "    \n",
    "    Returns\n",
    "    -------\n",
    "    float\n",
    "    \"\"\"\n",
    "\n",
    "    noise = random.normalvariate(mu, sd)\n",
    "    return (x + noise)\n",
    "\n",
    "add_noise(10, 0, 1)"
   ]
  },
  {
   "cell_type": "code",
   "execution_count": 37,
   "id": "ebefe710",
   "metadata": {},
   "outputs": [
    {
     "name": "stdout",
     "output_type": "stream",
     "text": [
      "0\n",
      "0\n",
      "1\n",
      "1\n",
      "2\n",
      "3\n",
      "3\n",
      "6\n",
      "4\n",
      "10\n"
     ]
    }
   ],
   "source": [
    "range(5)\n",
    "c = 0\n",
    "for i in range(5):\n",
    "    print(i)\n",
    "    c += i\n",
    "    print(c)"
   ]
  },
  {
   "cell_type": "code",
   "execution_count": 24,
   "id": "c062b19f",
   "metadata": {},
   "outputs": [
    {
     "data": {
      "text/plain": [
       "40"
      ]
     },
     "execution_count": 24,
     "metadata": {},
     "output_type": "execute_result"
    }
   ],
   "source": [
    "2+6+12+20"
   ]
  },
  {
   "cell_type": "code",
   "execution_count": 32,
   "id": "52d21e15",
   "metadata": {},
   "outputs": [
    {
     "name": "stdout",
     "output_type": "stream",
     "text": [
      "0\n",
      "0\n",
      "1\n",
      "1\n",
      "4\n",
      "3\n",
      "9\n",
      "6\n",
      "16\n",
      "10\n"
     ]
    }
   ],
   "source": [
    "counter = 0\n",
    "for i in range(5):\n",
    "    i_square = i*i\n",
    "    counter += i\n",
    "    print(i_square)\n",
    "    print(counter)\n"
   ]
  },
  {
   "cell_type": "code",
   "execution_count": 39,
   "id": "e019f47d",
   "metadata": {},
   "outputs": [
    {
     "name": "stdout",
     "output_type": "stream",
     "text": [
      "15.7 ns ± 4.81 ns per loop (mean ± std. dev. of 7 runs, 100,000,000 loops each)\n"
     ]
    }
   ],
   "source": [
    "%timeit 2 * 2"
   ]
  },
  {
   "cell_type": "code",
   "execution_count": 42,
   "id": "6d11bbe7",
   "metadata": {},
   "outputs": [
    {
     "name": "stdout",
     "output_type": "stream",
     "text": [
      "[[0. 0. 0. 0. 0. 0. 0. 0. 0. 0.]\n",
      " [0. 0. 0. 0. 0. 0. 0. 0. 0. 0.]\n",
      " [0. 0. 0. 0. 0. 0. 0. 0. 0. 0.]\n",
      " [0. 0. 0. 0. 0. 0. 0. 0. 0. 0.]\n",
      " [0. 0. 0. 0. 0. 0. 0. 0. 0. 0.]\n",
      " [0. 0. 0. 0. 0. 0. 0. 0. 0. 0.]\n",
      " [0. 0. 0. 0. 0. 0. 0. 0. 0. 0.]\n",
      " [0. 0. 0. 0. 0. 0. 0. 0. 0. 0.]\n",
      " [0. 0. 0. 0. 0. 0. 0. 0. 0. 0.]\n",
      " [0. 0. 0. 0. 0. 0. 0. 0. 0. 0.]]\n"
     ]
    }
   ],
   "source": [
    "import numpy as np\n",
    "\n",
    "# Create an empty 10 x 10 array of zeros\n",
    "array_demo = np.zeros(shape=(10, 10))\n",
    "print(array_demo)"
   ]
  },
  {
   "cell_type": "code",
   "execution_count": 50,
   "id": "99ea6645",
   "metadata": {},
   "outputs": [
    {
     "name": "stdout",
     "output_type": "stream",
     "text": [
      "(10, 10)\n",
      "float64\n",
      "[   0    1    2 ... 9997 9998 9999]\n",
      "[[   0    1    2 ...   97   98   99]\n",
      " [ 100  101  102 ...  197  198  199]\n",
      " [ 200  201  202 ...  297  298  299]\n",
      " ...\n",
      " [9700 9701 9702 ... 9797 9798 9799]\n",
      " [9800 9801 9802 ... 9897 9898 9899]\n",
      " [9900 9901 9902 ... 9997 9998 9999]]\n",
      "[[    0     2     4 ...   194   196   198]\n",
      " [  200   202   204 ...   394   396   398]\n",
      " [  400   402   404 ...   594   596   598]\n",
      " ...\n",
      " [19400 19402 19404 ... 19594 19596 19598]\n",
      " [19600 19602 19604 ... 19794 19796 19798]\n",
      " [19800 19802 19804 ... 19994 19996 19998]]\n"
     ]
    },
    {
     "data": {
      "text/plain": [
       "array([[  0,   2,   4,   6,   8,  10,  12,  14,  16,  18,  20,  22,  24,\n",
       "         26,  28,  30,  32,  34,  36,  38,  40,  42,  44,  46,  48,  50,\n",
       "         52,  54,  56,  58,  60,  62,  64,  66,  68,  70,  72,  74,  76,\n",
       "         78,  80,  82,  84,  86,  88,  90,  92,  94,  96,  98],\n",
       "       [200, 202, 204, 206, 208, 210, 212, 214, 216, 218, 220, 222, 224,\n",
       "        226, 228, 230, 232, 234, 236, 238, 240, 242, 244, 246, 248, 250,\n",
       "        252, 254, 256, 258, 260, 262, 264, 266, 268, 270, 272, 274, 276,\n",
       "        278, 280, 282, 284, 286, 288, 290, 292, 294, 296, 298]])"
      ]
     },
     "execution_count": 50,
     "metadata": {},
     "output_type": "execute_result"
    }
   ],
   "source": [
    "# Inspect the array: what can we learn about its dimensionality?\n",
    "print(array_demo.shape)\n",
    "\n",
    "# Its data type?\n",
    "print(array_demo.dtype)\n",
    "\n",
    "# Create a 1D numpy array with values 0 through 999\n",
    "array_1d = np.arange(10000)\n",
    "print(array_1d)\n",
    "\n",
    "# Reshape our array to 100 x 1000\n",
    "array_2d = array_1d.reshape(100, 100)\n",
    "print(array_2d)\n",
    "\n",
    "# Multiply every value in our array by 2\n",
    "array_times_2 = array_2d * 2\n",
    "print(array_times_2)\n",
    "\n",
    "# Inspect the first 50 elements of each of the first two rows\n",
    "array_times_2[:2, :50]"
   ]
  },
  {
   "cell_type": "code",
   "execution_count": 92,
   "id": "104b2ab4",
   "metadata": {},
   "outputs": [
    {
     "name": "stdout",
     "output_type": "stream",
     "text": [
      "[[6.3200e-03 1.8000e+01 2.3100e+00 ... 3.9690e+02 4.9800e+00 2.4000e+01]\n",
      " [2.7310e-02 0.0000e+00 7.0700e+00 ... 3.9690e+02 9.1400e+00 2.1600e+01]\n",
      " [2.7290e-02 0.0000e+00 7.0700e+00 ... 3.9283e+02 4.0300e+00 3.4700e+01]\n",
      " ...\n",
      " [6.0760e-02 0.0000e+00 1.1930e+01 ... 3.9690e+02 5.6400e+00 2.3900e+01]\n",
      " [1.0959e-01 0.0000e+00 1.1930e+01 ... 3.9345e+02 6.4800e+00 2.2000e+01]\n",
      " [4.7410e-02 0.0000e+00 1.1930e+01 ... 3.9690e+02 7.8800e+00 1.1900e+01]]\n",
      "(506, 14)\n"
     ]
    }
   ],
   "source": [
    "# Load the dataset at https://bit.ly/nds-python-pure\n",
    "data = np.loadtxt('https://bit.ly/nds-python-pure')\n",
    "\n",
    "# Here's the data:\n",
    "print(data)\n",
    "\n",
    "# And its shape:\n",
    "print(data.shape)"
   ]
  },
  {
   "cell_type": "code",
   "execution_count": 93,
   "id": "9c8b4613",
   "metadata": {},
   "outputs": [
    {
     "name": "stdout",
     "output_type": "stream",
     "text": [
      "float64\n",
      "66.67816985036703\n",
      "[3.61352356e+00 1.13636364e+01 1.11367787e+01 6.91699605e-02\n",
      " 5.54695059e-01 6.28463439e+00 6.85749012e+01 3.79504269e+00\n",
      " 9.54940711e+00 4.08237154e+02 1.84555336e+01 3.56674032e+02\n",
      " 1.26530632e+01 2.25328063e+01]\n"
     ]
    }
   ],
   "source": [
    "# The type of the data:\n",
    "print(data.dtype)\n",
    "\n",
    "# Take the mean of the data array\n",
    "print(data.mean())\n",
    "\n",
    "# Take the mean across the *first axis* (i.e., the mean across rows)\n",
    "print(data.mean(axis=0))"
   ]
  },
  {
   "cell_type": "code",
   "execution_count": 94,
   "id": "0e8f06cd",
   "metadata": {},
   "outputs": [
    {
     "name": "stdout",
     "output_type": "stream",
     "text": [
      "[8.59304135e+00 2.32993957e+01 6.85357058e+00 2.53742935e-01\n",
      " 1.15763115e-01 7.01922514e-01 2.81210326e+01 2.10362836e+00\n",
      " 8.69865112e+00 1.68370495e+02 2.16280519e+00 9.12046075e+01\n",
      " 7.13400164e+00 9.18801155e+00]\n",
      "[6.3200e-03 0.0000e+00 4.6000e-01 0.0000e+00 3.8500e-01 3.5610e+00\n",
      " 2.9000e+00 1.1296e+00 1.0000e+00 1.8700e+02 1.2600e+01 3.2000e-01\n",
      " 1.7300e+00 5.0000e+00]\n",
      "[ 88.9762 100.      27.74     1.       0.871    8.78   100.      12.1265\n",
      "  24.     711.      22.     396.9     37.97    50.    ]\n",
      "[6.320e-03 1.800e+01 2.310e+00 0.000e+00 5.380e-01 6.575e+00 6.520e+01\n",
      " 4.090e+00 1.000e+00 2.960e+02 1.530e+01 3.969e+02 4.980e+00 2.400e+01]\n"
     ]
    }
   ],
   "source": [
    "# Standard deviation\n",
    "print(data.std(axis=0))\n",
    "# Minimum:\n",
    "print(data.min(axis=0))\n",
    "# Maximum:\n",
    "print(data.max(axis=0))\n",
    "\n",
    "print(data[0, :])"
   ]
  },
  {
   "cell_type": "code",
   "execution_count": 97,
   "id": "5add7c07",
   "metadata": {},
   "outputs": [
    {
     "name": "stdout",
     "output_type": "stream",
     "text": [
      "<class 'numpy.ndarray'>\n",
      "-17.86907982092717 25.09612693555168\n",
      "[False False False False False False False False False False False False\n",
      " False False False False False False False False False False False False\n",
      " False False False False False False False False False False False False\n",
      " False False False False False False False False False False False False\n",
      " False False False False False False False False False False False False\n",
      " False False False False False False False False False False False False\n",
      " False False False False False False False False False False False False\n",
      " False False False False False False False False False False False False\n",
      " False False False False False False False False False False False False\n",
      " False False False False False False False False False False False False\n",
      " False False False False False False False False False False False False\n",
      " False False False False False False False False False False False False\n",
      " False False False False False False False False False False False False\n",
      " False False False False False False False False False False False False\n",
      " False False False False False False False False False False False False\n",
      " False False False False False False False False False False False False\n",
      " False False False False False False False False False False False False\n",
      " False False False False False False False False False False False False\n",
      " False False False False False False False False False False False False\n",
      " False False False False False False False False False False False False\n",
      " False False False False False False False False False False False False\n",
      " False False False False False False False False False False False False\n",
      " False False False False False False False False False False False False\n",
      " False False False False False False False False False False False False\n",
      " False False False False False False False False False False False False\n",
      " False False False False False False False False False False False False\n",
      " False False False False False False False False False False False False\n",
      " False False False False False False False False False False False False\n",
      " False False False False False False False False False False False False\n",
      " False False False False False False False False False False False False\n",
      " False False False False False False False False False False False False\n",
      " False False False False False False False False  True False False False\n",
      " False False False False False False False False False False False False\n",
      " False False  True False False False False False  True  True False False\n",
      " False False  True False False  True  True False False  True  True False\n",
      " False False False False False False False  True False False False False\n",
      " False False False False False False False False False False False False\n",
      " False False False False False False False False False False False False\n",
      " False False False False False False False False False False False False\n",
      " False False False False False False False False False False False False\n",
      " False False False False False False False False False False False False\n",
      " False False False False False False False False False False False False\n",
      " False False]\n",
      "[88.9762 38.3518 41.5292 67.9208 51.1358 28.6558 45.7461 25.9406 73.5341\n",
      " 37.6619]\n"
     ]
    }
   ],
   "source": [
    "# Subsetting data\n",
    "\n",
    "print(type(data))\n",
    "# Calculate the 2.5 SD +/- range of the data\n",
    "low = data[:, 0].mean() - (data[:, 0].std() * 2.5)\n",
    "high = data[:, 0].mean() + (data[:, 0].std() * 2.5)\n",
    "print(low, high)\n",
    "\n",
    "# Create a mask for the outliers\n",
    "mask = np.logical_or(data[:, 0] > high, data[:, 0] < low)\n",
    "print(mask)\n",
    "\n",
    "# Mask the data and check the values in the first column that are \"outliers\"\n",
    "print(data[mask, 0])"
   ]
  },
  {
   "cell_type": "code",
   "execution_count": 60,
   "id": "640afc68",
   "metadata": {},
   "outputs": [
    {
     "name": "stdout",
     "output_type": "stream",
     "text": [
      "-rw-r--r--  1 chunyilee  staff  177100 May 20 15:45 modified_data.csv\r\n"
     ]
    }
   ],
   "source": [
    "# Modify data and save to disk\n",
    "modified_data = data * 2\n",
    "np.savetxt('modified_data.csv', modified_data)\n",
    "\n",
    "# Check that the file was created!\n",
    "! ls -lF modified_data.csv"
   ]
  },
  {
   "cell_type": "code",
   "execution_count": 63,
   "id": "cb99199c",
   "metadata": {},
   "outputs": [
    {
     "name": "stdout",
     "output_type": "stream",
     "text": [
      "['\"\";\"Hair\";\"FSIQ\";\"VIQ\";\"PIQ\";\"Weight\";\"Height\";\"MRI_Count\"'\n",
      " '\"1\";\"white\";133;132;124;\"118\";\"64.5\";816932'\n",
      " '\"2\";\"black\";140;150;124;\".\";\"72.5\";1001121'\n",
      " '\"3\";\"black\";139;123;150;\"143\";\"73.3\";1038437'\n",
      " '\"4\";\"black\";133;129;128;\"172\";\"68.8\";965353'\n",
      " '\"5\";\"white\";137;132;134;\"147\";\"65.0\";951545'\n",
      " '\"6\";\"white\";99;90;110;\"146\";\"69.0\";928799'\n",
      " '\"7\";\"white\";138;136;131;\"138\";\"64.5\";991305'\n",
      " '\"8\";\"white\";92;90;98;\"175\";\"66.0\";854258'\n",
      " '\"9\";\"black\";89;93;84;\"134\";\"66.3\";904858'\n",
      " '\"10\";\"black\";133;114;147;\"172\";\"68.8\";955466'\n",
      " '\"11\";\"white\";132;129;124;\"118\";\"64.5\";833868'\n",
      " '\"12\";\"black\";141;150;128;\"151\";\"70.0\";1079549'\n",
      " '\"13\";\"black\";135;129;124;\"155\";\"69.0\";924059'\n",
      " '\"14\";\"white\";140;120;147;\"155\";\"70.5\";856472'\n",
      " '\"15\";\"white\";96;100;90;\"146\";\"66.0\";878897'\n",
      " '\"16\";\"white\";83;71;96;\"135\";\"68.0\";865363'\n",
      " '\"17\";\"white\";132;132;120;\"127\";\"68.5\";852244'\n",
      " '\"18\";\"black\";100;96;102;\"178\";\"73.5\";945088'\n",
      " '\"19\";\"white\";101;112;84;\"136\";\"66.3\";808020'\n",
      " '\"20\";\"black\";80;77;86;\"180\";\"70.0\";889083'\n",
      " '\"21\";\"black\";83;83;86;\".\";\".\";892420'\n",
      " '\"22\";\"black\";97;107;84;\"186\";\"76.5\";905940'\n",
      " '\"23\";\"white\";135;129;134;\"122\";\"62.0\";790619'\n",
      " '\"24\";\"black\";139;145;128;\"132\";\"68.0\";955003'\n",
      " '\"25\";\"white\";91;86;102;\"114\";\"63.0\";831772'\n",
      " '\"26\";\"black\";141;145;131;\"171\";\"72.0\";935494'\n",
      " '\"27\";\"white\";85;90;84;\"140\";\"68.0\";798612'\n",
      " '\"28\";\"black\";103;96;110;\"187\";\"77.0\";1062462'\n",
      " '\"29\";\"white\";77;83;72;\"106\";\"63.0\";793549'\n",
      " '\"30\";\"white\";130;126;124;\"159\";\"66.5\";866662'\n",
      " '\"31\";\"white\";133;126;132;\"127\";\"62.5\";857782'\n",
      " '\"32\";\"black\";144;145;137;\"191\";\"67.0\";949589'\n",
      " '\"33\";\"black\";103;96;110;\"192\";\"75.5\";997925'\n",
      " '\"34\";\"black\";90;96;86;\"181\";\"69.0\";879987'\n",
      " '\"35\";\"white\";83;90;81;\"143\";\"66.5\";834344'\n",
      " '\"36\";\"white\";133;129;128;\"153\";\"66.5\";948066'\n",
      " '\"37\";\"black\";140;150;124;\"144\";\"70.5\";949395'\n",
      " '\"38\";\"white\";88;86;94;\"139\";\"64.5\";893983'\n",
      " '\"39\";\"black\";81;90;74;\"148\";\"74.0\";930016'\n",
      " '\"40\";\"black\";89;91;89;\"179\";\"75.5\";935863']\n",
      "(41,)\n",
      "(41, 8)\n",
      "[['\"\"' '\"Hair\"' '\"FSIQ\"' '\"VIQ\"' '\"PIQ\"' '\"Weight\"' '\"Height\"'\n",
      "  '\"MRI_Count\"']\n",
      " ['\"1\"' '\"white\"' '133' '132' '124' '\"118\"' '\"64.5\"' '816932']\n",
      " ['\"2\"' '\"black\"' '140' '150' '124' '\".\"' '\"72.5\"' '1001121']\n",
      " ['\"3\"' '\"black\"' '139' '123' '150' '\"143\"' '\"73.3\"' '1038437']\n",
      " ['\"4\"' '\"black\"' '133' '129' '128' '\"172\"' '\"68.8\"' '965353']\n",
      " ['\"5\"' '\"white\"' '137' '132' '134' '\"147\"' '\"65.0\"' '951545']\n",
      " ['\"6\"' '\"white\"' '99' '90' '110' '\"146\"' '\"69.0\"' '928799']\n",
      " ['\"7\"' '\"white\"' '138' '136' '131' '\"138\"' '\"64.5\"' '991305']\n",
      " ['\"8\"' '\"white\"' '92' '90' '98' '\"175\"' '\"66.0\"' '854258']\n",
      " ['\"9\"' '\"black\"' '89' '93' '84' '\"134\"' '\"66.3\"' '904858']\n",
      " ['\"10\"' '\"black\"' '133' '114' '147' '\"172\"' '\"68.8\"' '955466']\n",
      " ['\"11\"' '\"white\"' '132' '129' '124' '\"118\"' '\"64.5\"' '833868']\n",
      " ['\"12\"' '\"black\"' '141' '150' '128' '\"151\"' '\"70.0\"' '1079549']\n",
      " ['\"13\"' '\"black\"' '135' '129' '124' '\"155\"' '\"69.0\"' '924059']\n",
      " ['\"14\"' '\"white\"' '140' '120' '147' '\"155\"' '\"70.5\"' '856472']\n",
      " ['\"15\"' '\"white\"' '96' '100' '90' '\"146\"' '\"66.0\"' '878897']\n",
      " ['\"16\"' '\"white\"' '83' '71' '96' '\"135\"' '\"68.0\"' '865363']\n",
      " ['\"17\"' '\"white\"' '132' '132' '120' '\"127\"' '\"68.5\"' '852244']\n",
      " ['\"18\"' '\"black\"' '100' '96' '102' '\"178\"' '\"73.5\"' '945088']\n",
      " ['\"19\"' '\"white\"' '101' '112' '84' '\"136\"' '\"66.3\"' '808020']\n",
      " ['\"20\"' '\"black\"' '80' '77' '86' '\"180\"' '\"70.0\"' '889083']\n",
      " ['\"21\"' '\"black\"' '83' '83' '86' '\".\"' '\".\"' '892420']\n",
      " ['\"22\"' '\"black\"' '97' '107' '84' '\"186\"' '\"76.5\"' '905940']\n",
      " ['\"23\"' '\"white\"' '135' '129' '134' '\"122\"' '\"62.0\"' '790619']\n",
      " ['\"24\"' '\"black\"' '139' '145' '128' '\"132\"' '\"68.0\"' '955003']\n",
      " ['\"25\"' '\"white\"' '91' '86' '102' '\"114\"' '\"63.0\"' '831772']\n",
      " ['\"26\"' '\"black\"' '141' '145' '131' '\"171\"' '\"72.0\"' '935494']\n",
      " ['\"27\"' '\"white\"' '85' '90' '84' '\"140\"' '\"68.0\"' '798612']\n",
      " ['\"28\"' '\"black\"' '103' '96' '110' '\"187\"' '\"77.0\"' '1062462']\n",
      " ['\"29\"' '\"white\"' '77' '83' '72' '\"106\"' '\"63.0\"' '793549']\n",
      " ['\"30\"' '\"white\"' '130' '126' '124' '\"159\"' '\"66.5\"' '866662']\n",
      " ['\"31\"' '\"white\"' '133' '126' '132' '\"127\"' '\"62.5\"' '857782']\n",
      " ['\"32\"' '\"black\"' '144' '145' '137' '\"191\"' '\"67.0\"' '949589']\n",
      " ['\"33\"' '\"black\"' '103' '96' '110' '\"192\"' '\"75.5\"' '997925']\n",
      " ['\"34\"' '\"black\"' '90' '96' '86' '\"181\"' '\"69.0\"' '879987']\n",
      " ['\"35\"' '\"white\"' '83' '90' '81' '\"143\"' '\"66.5\"' '834344']\n",
      " ['\"36\"' '\"white\"' '133' '129' '128' '\"153\"' '\"66.5\"' '948066']\n",
      " ['\"37\"' '\"black\"' '140' '150' '124' '\"144\"' '\"70.5\"' '949395']\n",
      " ['\"38\"' '\"white\"' '88' '86' '94' '\"139\"' '\"64.5\"' '893983']\n",
      " ['\"39\"' '\"black\"' '81' '90' '74' '\"148\"' '\"74.0\"' '930016']\n",
      " ['\"40\"' '\"black\"' '89' '91' '89' '\"179\"' '\"75.5\"' '935863']]\n"
     ]
    }
   ],
   "source": [
    "# Mixed data\n",
    "\n",
    "\n",
    "# We need to specify the datatype!\n",
    "data = np.loadtxt('https://bit.ly/nds-python-mixed', dtype=str)\n",
    "print(data)\n",
    "# Check the loaded array's shape:\n",
    "print(data.shape)\n",
    "# The columns are separated by semi-colons: we need to specify _that_, too!\n",
    "data = np.loadtxt('https://bit.ly/nds-python-mixed', dtype=str, delimiter=';')\n",
    "print(data.shape)\n",
    "print(data)"
   ]
  },
  {
   "cell_type": "code",
   "execution_count": 64,
   "id": "0218c621",
   "metadata": {},
   "outputs": [
    {
     "name": "stdout",
     "output_type": "stream",
     "text": [
      "<U11\n"
     ]
    }
   ],
   "source": [
    "# Check data type:\n",
    "print(data.dtype)"
   ]
  },
  {
   "cell_type": "code",
   "execution_count": 88,
   "id": "82e78f8b",
   "metadata": {},
   "outputs": [
    {
     "name": "stdout",
     "output_type": "stream",
     "text": [
      "<class 'pandas.core.frame.DataFrame'>\n"
     ]
    }
   ],
   "source": [
    "# Import pandas and load https://bit.ly/nds-python-mixed\n",
    "import pandas as pd\n",
    "data = pd.read_csv('https://bit.ly/nds-python-mixed', delimiter=';')\n",
    "print(type(data))"
   ]
  },
  {
   "cell_type": "code",
   "execution_count": 66,
   "id": "663fcdc5",
   "metadata": {},
   "outputs": [
    {
     "data": {
      "text/html": [
       "<div>\n",
       "<style scoped>\n",
       "    .dataframe tbody tr th:only-of-type {\n",
       "        vertical-align: middle;\n",
       "    }\n",
       "\n",
       "    .dataframe tbody tr th {\n",
       "        vertical-align: top;\n",
       "    }\n",
       "\n",
       "    .dataframe thead th {\n",
       "        text-align: right;\n",
       "    }\n",
       "</style>\n",
       "<table border=\"1\" class=\"dataframe\">\n",
       "  <thead>\n",
       "    <tr style=\"text-align: right;\">\n",
       "      <th></th>\n",
       "      <th>Unnamed: 0</th>\n",
       "      <th>Hair</th>\n",
       "      <th>FSIQ</th>\n",
       "      <th>VIQ</th>\n",
       "      <th>PIQ</th>\n",
       "      <th>Weight</th>\n",
       "      <th>Height</th>\n",
       "      <th>MRI_Count</th>\n",
       "    </tr>\n",
       "  </thead>\n",
       "  <tbody>\n",
       "    <tr>\n",
       "      <th>0</th>\n",
       "      <td>1</td>\n",
       "      <td>white</td>\n",
       "      <td>133</td>\n",
       "      <td>132</td>\n",
       "      <td>124</td>\n",
       "      <td>118</td>\n",
       "      <td>64.5</td>\n",
       "      <td>816932</td>\n",
       "    </tr>\n",
       "    <tr>\n",
       "      <th>1</th>\n",
       "      <td>2</td>\n",
       "      <td>black</td>\n",
       "      <td>140</td>\n",
       "      <td>150</td>\n",
       "      <td>124</td>\n",
       "      <td>.</td>\n",
       "      <td>72.5</td>\n",
       "      <td>1001121</td>\n",
       "    </tr>\n",
       "    <tr>\n",
       "      <th>2</th>\n",
       "      <td>3</td>\n",
       "      <td>black</td>\n",
       "      <td>139</td>\n",
       "      <td>123</td>\n",
       "      <td>150</td>\n",
       "      <td>143</td>\n",
       "      <td>73.3</td>\n",
       "      <td>1038437</td>\n",
       "    </tr>\n",
       "    <tr>\n",
       "      <th>3</th>\n",
       "      <td>4</td>\n",
       "      <td>black</td>\n",
       "      <td>133</td>\n",
       "      <td>129</td>\n",
       "      <td>128</td>\n",
       "      <td>172</td>\n",
       "      <td>68.8</td>\n",
       "      <td>965353</td>\n",
       "    </tr>\n",
       "    <tr>\n",
       "      <th>4</th>\n",
       "      <td>5</td>\n",
       "      <td>white</td>\n",
       "      <td>137</td>\n",
       "      <td>132</td>\n",
       "      <td>134</td>\n",
       "      <td>147</td>\n",
       "      <td>65.0</td>\n",
       "      <td>951545</td>\n",
       "    </tr>\n",
       "  </tbody>\n",
       "</table>\n",
       "</div>"
      ],
      "text/plain": [
       "   Unnamed: 0   Hair  FSIQ  VIQ  PIQ Weight Height  MRI_Count\n",
       "0           1  white   133  132  124    118   64.5     816932\n",
       "1           2  black   140  150  124      .   72.5    1001121\n",
       "2           3  black   139  123  150    143   73.3    1038437\n",
       "3           4  black   133  129  128    172   68.8     965353\n",
       "4           5  white   137  132  134    147   65.0     951545"
      ]
     },
     "execution_count": 66,
     "metadata": {},
     "output_type": "execute_result"
    }
   ],
   "source": [
    "# Sneak peek at the first five rows of the data frame\n",
    "data.head()"
   ]
  },
  {
   "cell_type": "code",
   "execution_count": 69,
   "id": "cbbe075c",
   "metadata": {},
   "outputs": [
    {
     "name": "stdout",
     "output_type": "stream",
     "text": [
      "0    white\n",
      "1    black\n",
      "2    black\n",
      "3    black\n",
      "4    white\n",
      "Name: Hair, dtype: object\n"
     ]
    },
    {
     "data": {
      "text/html": [
       "<div>\n",
       "<style scoped>\n",
       "    .dataframe tbody tr th:only-of-type {\n",
       "        vertical-align: middle;\n",
       "    }\n",
       "\n",
       "    .dataframe tbody tr th {\n",
       "        vertical-align: top;\n",
       "    }\n",
       "\n",
       "    .dataframe thead th {\n",
       "        text-align: right;\n",
       "    }\n",
       "</style>\n",
       "<table border=\"1\" class=\"dataframe\">\n",
       "  <thead>\n",
       "    <tr style=\"text-align: right;\">\n",
       "      <th></th>\n",
       "      <th>Hair</th>\n",
       "      <th>FSIQ</th>\n",
       "    </tr>\n",
       "  </thead>\n",
       "  <tbody>\n",
       "    <tr>\n",
       "      <th>0</th>\n",
       "      <td>white</td>\n",
       "      <td>133</td>\n",
       "    </tr>\n",
       "    <tr>\n",
       "      <th>1</th>\n",
       "      <td>black</td>\n",
       "      <td>140</td>\n",
       "    </tr>\n",
       "    <tr>\n",
       "      <th>2</th>\n",
       "      <td>black</td>\n",
       "      <td>139</td>\n",
       "    </tr>\n",
       "    <tr>\n",
       "      <th>3</th>\n",
       "      <td>black</td>\n",
       "      <td>133</td>\n",
       "    </tr>\n",
       "    <tr>\n",
       "      <th>4</th>\n",
       "      <td>white</td>\n",
       "      <td>137</td>\n",
       "    </tr>\n",
       "  </tbody>\n",
       "</table>\n",
       "</div>"
      ],
      "text/plain": [
       "    Hair  FSIQ\n",
       "0  white   133\n",
       "1  black   140\n",
       "2  black   139\n",
       "3  black   133\n",
       "4  white   137"
      ]
     },
     "execution_count": 69,
     "metadata": {},
     "output_type": "execute_result"
    }
   ],
   "source": [
    "# Selecting columns\n",
    "\n",
    "# Selecting one column:\n",
    "hair = data['Hair']\n",
    "print(hair.head())\n",
    "\n",
    "# Selecting multiple columns:\n",
    "hair_and_fsiq = data[['Hair', 'FSIQ']]\n",
    "hair_and_fsiq.head()"
   ]
  },
  {
   "cell_type": "code",
   "execution_count": 70,
   "id": "a2c9b293",
   "metadata": {},
   "outputs": [
    {
     "name": "stdout",
     "output_type": "stream",
     "text": [
      "<class 'pandas.core.series.Series'>\n",
      "<class 'pandas.core.frame.DataFrame'>\n"
     ]
    }
   ],
   "source": [
    "# Check type of `hair`\n",
    "print(type(hair))\n",
    "# Check type of `hair_and_fsiq`\n",
    "print(type(hair_and_fsiq))"
   ]
  },
  {
   "cell_type": "code",
   "execution_count": 80,
   "id": "f907993a",
   "metadata": {},
   "outputs": [
    {
     "name": "stdout",
     "output_type": "stream",
     "text": [
      "    Hair  FSIQ  VIQ  PIQ Weight Height  MRI_Count\n",
      "1  white   133  132  124    118   64.5     816932\n",
      "2  black   140  150  124      .   72.5    1001121\n",
      "3  black   139  123  150    143   73.3    1038437\n",
      "4  black   133  129  128    172   68.8     965353\n",
      "5  white   137  132  134    147   65.0     951545\n"
     ]
    },
    {
     "data": {
      "text/html": [
       "<div>\n",
       "<style scoped>\n",
       "    .dataframe tbody tr th:only-of-type {\n",
       "        vertical-align: middle;\n",
       "    }\n",
       "\n",
       "    .dataframe tbody tr th {\n",
       "        vertical-align: top;\n",
       "    }\n",
       "\n",
       "    .dataframe thead th {\n",
       "        text-align: right;\n",
       "    }\n",
       "</style>\n",
       "<table border=\"1\" class=\"dataframe\">\n",
       "  <thead>\n",
       "    <tr style=\"text-align: right;\">\n",
       "      <th></th>\n",
       "      <th>Hair</th>\n",
       "      <th>FSIQ</th>\n",
       "      <th>VIQ</th>\n",
       "      <th>PIQ</th>\n",
       "      <th>Weight</th>\n",
       "      <th>Height</th>\n",
       "      <th>MRI_Count</th>\n",
       "    </tr>\n",
       "  </thead>\n",
       "  <tbody>\n",
       "    <tr>\n",
       "      <th>participant_0</th>\n",
       "      <td>white</td>\n",
       "      <td>133</td>\n",
       "      <td>132</td>\n",
       "      <td>124</td>\n",
       "      <td>118</td>\n",
       "      <td>64.5</td>\n",
       "      <td>816932</td>\n",
       "    </tr>\n",
       "    <tr>\n",
       "      <th>participant_1</th>\n",
       "      <td>black</td>\n",
       "      <td>140</td>\n",
       "      <td>150</td>\n",
       "      <td>124</td>\n",
       "      <td>.</td>\n",
       "      <td>72.5</td>\n",
       "      <td>1001121</td>\n",
       "    </tr>\n",
       "    <tr>\n",
       "      <th>participant_2</th>\n",
       "      <td>black</td>\n",
       "      <td>139</td>\n",
       "      <td>123</td>\n",
       "      <td>150</td>\n",
       "      <td>143</td>\n",
       "      <td>73.3</td>\n",
       "      <td>1038437</td>\n",
       "    </tr>\n",
       "    <tr>\n",
       "      <th>participant_3</th>\n",
       "      <td>black</td>\n",
       "      <td>133</td>\n",
       "      <td>129</td>\n",
       "      <td>128</td>\n",
       "      <td>172</td>\n",
       "      <td>68.8</td>\n",
       "      <td>965353</td>\n",
       "    </tr>\n",
       "    <tr>\n",
       "      <th>participant_4</th>\n",
       "      <td>white</td>\n",
       "      <td>137</td>\n",
       "      <td>132</td>\n",
       "      <td>134</td>\n",
       "      <td>147</td>\n",
       "      <td>65.0</td>\n",
       "      <td>951545</td>\n",
       "    </tr>\n",
       "  </tbody>\n",
       "</table>\n",
       "</div>"
      ],
      "text/plain": [
       "                Hair  FSIQ  VIQ  PIQ Weight Height  MRI_Count\n",
       "participant_0  white   133  132  124    118   64.5     816932\n",
       "participant_1  black   140  150  124      .   72.5    1001121\n",
       "participant_2  black   139  123  150    143   73.3    1038437\n",
       "participant_3  black   133  129  128    172   68.8     965353\n",
       "participant_4  white   137  132  134    147   65.0     951545"
      ]
     },
     "execution_count": 80,
     "metadata": {},
     "output_type": "execute_result"
    }
   ],
   "source": [
    "# Data frame \"index\"\n",
    "\n",
    "# We can specify the index when we load the data\n",
    "data = pd.read_csv('https://bit.ly/nds-python-mixed', delimiter=';', index_col=0)\n",
    "print(data.head())\n",
    "\n",
    "# But we can also set the index directly, too:\n",
    "data.index = ['participant_{}'.format(n) for n in range(len(data))]\n",
    "data.head()\n"
   ]
  },
  {
   "cell_type": "code",
   "execution_count": 73,
   "id": "b0ed5e78",
   "metadata": {},
   "outputs": [
    {
     "data": {
      "text/plain": [
       "Hair          white\n",
       "FSIQ            132\n",
       "VIQ             129\n",
       "PIQ             124\n",
       "Weight          118\n",
       "Height         64.5\n",
       "MRI_Count    833868\n",
       "Name: participant_10, dtype: object"
      ]
     },
     "execution_count": 73,
     "metadata": {},
     "output_type": "execute_result"
    }
   ],
   "source": [
    "# Select participant number 10\n",
    "data.loc['participant_10']"
   ]
  },
  {
   "cell_type": "code",
   "execution_count": 74,
   "id": "05814e98",
   "metadata": {},
   "outputs": [
    {
     "name": "stderr",
     "output_type": "stream",
     "text": [
      "/var/folders/h9/b4fl72pj2254z2q1503mxdd00000gn/T/ipykernel_78080/3255083572.py:2: FutureWarning: The default value of numeric_only in DataFrame.mean is deprecated. In a future version, it will default to False. In addition, specifying 'numeric_only=None' is deprecated. Select only valid columns or specify the value of numeric_only to silence this warning.\n",
      "  data.mean()\n"
     ]
    },
    {
     "data": {
      "text/plain": [
       "FSIQ            113.450\n",
       "VIQ             112.350\n",
       "PIQ             111.025\n",
       "MRI_Count    908755.000\n",
       "dtype: float64"
      ]
     },
     "execution_count": 74,
     "metadata": {},
     "output_type": "execute_result"
    }
   ],
   "source": [
    "# Taking the mean of the data\n",
    "data.mean()"
   ]
  },
  {
   "cell_type": "code",
   "execution_count": 75,
   "id": "e7be6fb7",
   "metadata": {},
   "outputs": [
    {
     "data": {
      "text/html": [
       "<div>\n",
       "<style scoped>\n",
       "    .dataframe tbody tr th:only-of-type {\n",
       "        vertical-align: middle;\n",
       "    }\n",
       "\n",
       "    .dataframe tbody tr th {\n",
       "        vertical-align: top;\n",
       "    }\n",
       "\n",
       "    .dataframe thead th {\n",
       "        text-align: right;\n",
       "    }\n",
       "</style>\n",
       "<table border=\"1\" class=\"dataframe\">\n",
       "  <thead>\n",
       "    <tr style=\"text-align: right;\">\n",
       "      <th></th>\n",
       "      <th>FSIQ</th>\n",
       "      <th>VIQ</th>\n",
       "      <th>PIQ</th>\n",
       "      <th>MRI_Count</th>\n",
       "    </tr>\n",
       "  </thead>\n",
       "  <tbody>\n",
       "    <tr>\n",
       "      <th>count</th>\n",
       "      <td>40.000000</td>\n",
       "      <td>40.000000</td>\n",
       "      <td>40.00000</td>\n",
       "      <td>4.000000e+01</td>\n",
       "    </tr>\n",
       "    <tr>\n",
       "      <th>mean</th>\n",
       "      <td>113.450000</td>\n",
       "      <td>112.350000</td>\n",
       "      <td>111.02500</td>\n",
       "      <td>9.087550e+05</td>\n",
       "    </tr>\n",
       "    <tr>\n",
       "      <th>std</th>\n",
       "      <td>24.082071</td>\n",
       "      <td>23.616107</td>\n",
       "      <td>22.47105</td>\n",
       "      <td>7.228205e+04</td>\n",
       "    </tr>\n",
       "    <tr>\n",
       "      <th>min</th>\n",
       "      <td>77.000000</td>\n",
       "      <td>71.000000</td>\n",
       "      <td>72.00000</td>\n",
       "      <td>7.906190e+05</td>\n",
       "    </tr>\n",
       "    <tr>\n",
       "      <th>25%</th>\n",
       "      <td>89.750000</td>\n",
       "      <td>90.000000</td>\n",
       "      <td>88.25000</td>\n",
       "      <td>8.559185e+05</td>\n",
       "    </tr>\n",
       "    <tr>\n",
       "      <th>50%</th>\n",
       "      <td>116.500000</td>\n",
       "      <td>113.000000</td>\n",
       "      <td>115.00000</td>\n",
       "      <td>9.053990e+05</td>\n",
       "    </tr>\n",
       "    <tr>\n",
       "      <th>75%</th>\n",
       "      <td>135.500000</td>\n",
       "      <td>129.750000</td>\n",
       "      <td>128.00000</td>\n",
       "      <td>9.500780e+05</td>\n",
       "    </tr>\n",
       "    <tr>\n",
       "      <th>max</th>\n",
       "      <td>144.000000</td>\n",
       "      <td>150.000000</td>\n",
       "      <td>150.00000</td>\n",
       "      <td>1.079549e+06</td>\n",
       "    </tr>\n",
       "  </tbody>\n",
       "</table>\n",
       "</div>"
      ],
      "text/plain": [
       "             FSIQ         VIQ        PIQ     MRI_Count\n",
       "count   40.000000   40.000000   40.00000  4.000000e+01\n",
       "mean   113.450000  112.350000  111.02500  9.087550e+05\n",
       "std     24.082071   23.616107   22.47105  7.228205e+04\n",
       "min     77.000000   71.000000   72.00000  7.906190e+05\n",
       "25%     89.750000   90.000000   88.25000  8.559185e+05\n",
       "50%    116.500000  113.000000  115.00000  9.053990e+05\n",
       "75%    135.500000  129.750000  128.00000  9.500780e+05\n",
       "max    144.000000  150.000000  150.00000  1.079549e+06"
      ]
     },
     "execution_count": 75,
     "metadata": {},
     "output_type": "execute_result"
    }
   ],
   "source": [
    "# We can also use a special dataframe method to get a lot of stats quickly:\n",
    "data.describe()"
   ]
  },
  {
   "cell_type": "code",
   "execution_count": 76,
   "id": "4135c8c5",
   "metadata": {},
   "outputs": [
    {
     "name": "stdout",
     "output_type": "stream",
     "text": [
      "object object\n",
      "participant_0     118\n",
      "participant_1       .\n",
      "participant_2     143\n",
      "participant_3     172\n",
      "participant_4     147\n",
      "participant_5     146\n",
      "participant_6     138\n",
      "participant_7     175\n",
      "participant_8     134\n",
      "participant_9     172\n",
      "participant_10    118\n",
      "participant_11    151\n",
      "participant_12    155\n",
      "participant_13    155\n",
      "participant_14    146\n",
      "participant_15    135\n",
      "participant_16    127\n",
      "participant_17    178\n",
      "participant_18    136\n",
      "participant_19    180\n",
      "participant_20      .\n",
      "participant_21    186\n",
      "participant_22    122\n",
      "participant_23    132\n",
      "participant_24    114\n",
      "participant_25    171\n",
      "participant_26    140\n",
      "participant_27    187\n",
      "participant_28    106\n",
      "participant_29    159\n",
      "participant_30    127\n",
      "participant_31    191\n",
      "participant_32    192\n",
      "participant_33    181\n",
      "participant_34    143\n",
      "participant_35    153\n",
      "participant_36    144\n",
      "participant_37    139\n",
      "participant_38    148\n",
      "participant_39    179\n",
      "Name: Weight, dtype: object\n"
     ]
    }
   ],
   "source": [
    "# Missing data\n",
    "\n",
    "# Check the data type of Weight and Height\n",
    "print(data['Weight'].dtype, data['Height'].dtype)\n",
    "\n",
    "# Check the Weight column\n",
    "print(data['Weight'])"
   ]
  },
  {
   "cell_type": "code",
   "execution_count": 81,
   "id": "ecbbb1e2",
   "metadata": {},
   "outputs": [
    {
     "name": "stdout",
     "output_type": "stream",
     "text": [
      "                Hair  FSIQ  VIQ  PIQ Weight Height  MRI_Count\n",
      "participant_0  white   133  132  124    118   64.5     816932\n",
      "participant_1  black   140  150  124    NaN   72.5    1001121\n",
      "participant_2  black   139  123  150    143   73.3    1038437\n",
      "participant_3  black   133  129  128    172   68.8     965353\n",
      "participant_4  white   137  132  134    147   65.0     951545\n",
      "object object\n",
      "float64 float64\n"
     ]
    }
   ],
   "source": [
    "# Replace '.' with NaN\n",
    "data = data.replace('.', np.nan)\n",
    "print(data.head())\n",
    "\n",
    "# Re-check the data type of Weight and Height\n",
    "print(data['Weight'].dtype, data['Height'].dtype)\n",
    "\n",
    "# Cast Weight and Height to float\n",
    "data['Weight'] = data['Weight'].astype(float)\n",
    "data['Height'] = data['Height'].astype(float)\n",
    "print(data['Weight'].dtype, data['Height'].dtype)"
   ]
  },
  {
   "cell_type": "code",
   "execution_count": 83,
   "id": "99491765",
   "metadata": {},
   "outputs": [
    {
     "name": "stdout",
     "output_type": "stream",
     "text": [
      "float64 float64\n"
     ]
    },
    {
     "data": {
      "text/html": [
       "<div>\n",
       "<style scoped>\n",
       "    .dataframe tbody tr th:only-of-type {\n",
       "        vertical-align: middle;\n",
       "    }\n",
       "\n",
       "    .dataframe tbody tr th {\n",
       "        vertical-align: top;\n",
       "    }\n",
       "\n",
       "    .dataframe thead th {\n",
       "        text-align: right;\n",
       "    }\n",
       "</style>\n",
       "<table border=\"1\" class=\"dataframe\">\n",
       "  <thead>\n",
       "    <tr style=\"text-align: right;\">\n",
       "      <th></th>\n",
       "      <th>FSIQ</th>\n",
       "      <th>VIQ</th>\n",
       "      <th>PIQ</th>\n",
       "      <th>Weight</th>\n",
       "      <th>Height</th>\n",
       "      <th>MRI_Count</th>\n",
       "    </tr>\n",
       "  </thead>\n",
       "  <tbody>\n",
       "    <tr>\n",
       "      <th>count</th>\n",
       "      <td>40.000000</td>\n",
       "      <td>40.000000</td>\n",
       "      <td>40.00000</td>\n",
       "      <td>38.000000</td>\n",
       "      <td>39.000000</td>\n",
       "      <td>4.000000e+01</td>\n",
       "    </tr>\n",
       "    <tr>\n",
       "      <th>mean</th>\n",
       "      <td>113.450000</td>\n",
       "      <td>112.350000</td>\n",
       "      <td>111.02500</td>\n",
       "      <td>151.052632</td>\n",
       "      <td>68.525641</td>\n",
       "      <td>9.087550e+05</td>\n",
       "    </tr>\n",
       "    <tr>\n",
       "      <th>std</th>\n",
       "      <td>24.082071</td>\n",
       "      <td>23.616107</td>\n",
       "      <td>22.47105</td>\n",
       "      <td>23.478509</td>\n",
       "      <td>3.994649</td>\n",
       "      <td>7.228205e+04</td>\n",
       "    </tr>\n",
       "    <tr>\n",
       "      <th>min</th>\n",
       "      <td>77.000000</td>\n",
       "      <td>71.000000</td>\n",
       "      <td>72.00000</td>\n",
       "      <td>106.000000</td>\n",
       "      <td>62.000000</td>\n",
       "      <td>7.906190e+05</td>\n",
       "    </tr>\n",
       "    <tr>\n",
       "      <th>25%</th>\n",
       "      <td>89.750000</td>\n",
       "      <td>90.000000</td>\n",
       "      <td>88.25000</td>\n",
       "      <td>135.250000</td>\n",
       "      <td>66.000000</td>\n",
       "      <td>8.559185e+05</td>\n",
       "    </tr>\n",
       "    <tr>\n",
       "      <th>50%</th>\n",
       "      <td>116.500000</td>\n",
       "      <td>113.000000</td>\n",
       "      <td>115.00000</td>\n",
       "      <td>146.500000</td>\n",
       "      <td>68.000000</td>\n",
       "      <td>9.053990e+05</td>\n",
       "    </tr>\n",
       "    <tr>\n",
       "      <th>75%</th>\n",
       "      <td>135.500000</td>\n",
       "      <td>129.750000</td>\n",
       "      <td>128.00000</td>\n",
       "      <td>172.000000</td>\n",
       "      <td>70.500000</td>\n",
       "      <td>9.500780e+05</td>\n",
       "    </tr>\n",
       "    <tr>\n",
       "      <th>max</th>\n",
       "      <td>144.000000</td>\n",
       "      <td>150.000000</td>\n",
       "      <td>150.00000</td>\n",
       "      <td>192.000000</td>\n",
       "      <td>77.000000</td>\n",
       "      <td>1.079549e+06</td>\n",
       "    </tr>\n",
       "  </tbody>\n",
       "</table>\n",
       "</div>"
      ],
      "text/plain": [
       "             FSIQ         VIQ        PIQ      Weight     Height     MRI_Count\n",
       "count   40.000000   40.000000   40.00000   38.000000  39.000000  4.000000e+01\n",
       "mean   113.450000  112.350000  111.02500  151.052632  68.525641  9.087550e+05\n",
       "std     24.082071   23.616107   22.47105   23.478509   3.994649  7.228205e+04\n",
       "min     77.000000   71.000000   72.00000  106.000000  62.000000  7.906190e+05\n",
       "25%     89.750000   90.000000   88.25000  135.250000  66.000000  8.559185e+05\n",
       "50%    116.500000  113.000000  115.00000  146.500000  68.000000  9.053990e+05\n",
       "75%    135.500000  129.750000  128.00000  172.000000  70.500000  9.500780e+05\n",
       "max    144.000000  150.000000  150.00000  192.000000  77.000000  1.079549e+06"
      ]
     },
     "execution_count": 83,
     "metadata": {},
     "output_type": "execute_result"
    }
   ],
   "source": [
    "# Reload data specifying `na_values` and check Weight/Height dtype\n",
    "data = pd.read_csv('https://bit.ly/nds-python-mixed', delimiter=';', index_col=0, na_values='.')\n",
    "print(data['Weight'].dtype, data['Height'].dtype)\n",
    "\n",
    "# Now Weight + Height should be included in our \"describe\" method:\n",
    "data.describe()"
   ]
  },
  {
   "cell_type": "code",
   "execution_count": 86,
   "id": "a789ff21",
   "metadata": {},
   "outputs": [
    {
     "data": {
      "text/plain": [
       "<Axes: xlabel='FSIQ', ylabel='VIQ'>"
      ]
     },
     "execution_count": 86,
     "metadata": {},
     "output_type": "execute_result"
    },
    {
     "data": {
      "image/png": "[encoded data removed]",
      "text/plain": [
       "<Figure size 640x480 with 1 Axes>"
      ]
     },
     "metadata": {},
     "output_type": "display_data"
    },
    {
     "data": {
      "image/png": "[encoded data removed]",
      "text/plain": [
       "<Figure size 640x480 with 1 Axes>"
      ]
     },
     "metadata": {},
     "output_type": "display_data"
    },
    {
     "data": {
      "image/png": "[encoded data removed]",
      "text/plain": [
       "<Figure size 640x480 with 1 Axes>"
      ]
     },
     "metadata": {},
     "output_type": "display_data"
    }
   ],
   "source": [
    "# Basic plotting in pandas\n",
    "\n",
    "# Special command to get our plots to show up in our notebook:\n",
    "%matplotlib inline \n",
    "# The basic plot command:\n",
    "data.plot()\n",
    "# Plotting only some columns\n",
    "data[['Height', 'Weight']].plot()\n",
    "# Or, different kinds of plots!\n",
    "data.plot(kind='scatter', x='FSIQ', y='VIQ')\n"
   ]
  },
  {
   "cell_type": "code",
   "execution_count": null,
   "id": "bc59fb5c",
   "metadata": {},
   "outputs": [],
   "source": []
  }
 ],
 "metadata": {
  "kernelspec": {
   "display_name": "Python 3 (ipykernel)",
   "language": "python",
   "name": "python3"
  },
  "language_info": {
   "codemirror_mode": {
    "name": "ipython",
    "version": 3
   },
   "file_extension": ".py",
   "mimetype": "text/x-python",
   "name": "python",
   "nbconvert_exporter": "python",
   "pygments_lexer": "ipython3",
   "version": "3.10.9"
  }
 },
 "nbformat": 4,
 "nbformat_minor": 5
}
