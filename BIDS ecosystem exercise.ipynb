{
 "cells": [
  {
   "cell_type": "code",
   "execution_count": 8,
   "metadata": {},
   "outputs": [
    {
     "data": {
      "text/plain": [
       "['task', 'suffix', 'extension', 'subject', 'datatype']"
      ]
     },
     "execution_count": 8,
     "metadata": {},
     "output_type": "execute_result"
    }
   ],
   "source": [
    "# The Brain Imaging Data Structure (BIDS) ecosystem - Exercise\n",
    "\n",
    "from bids import BIDSLayout\n",
    "layout = BIDSLayout('/Users/chunyilee/BXF_NDA/ds000228')\n",
    "bold = layout.get(subject='pixar003', suffix='bold', extension='nii.gz')\n",
    "bold\n",
    "\n",
    "list(layout.get_entities(metadata=False))"
   ]
  },
  {
   "cell_type": "code",
   "execution_count": 13,
   "metadata": {},
   "outputs": [
    {
     "data": {
      "text/plain": [
       "[7, 90, 89, 84, 88]"
      ]
     },
     "execution_count": 13,
     "metadata": {},
     "output_type": "execute_result"
    }
   ],
   "source": [
    "# list of the flip angles in DS000228 using pybids\n",
    "\n",
    "layout.get_FlipAngles()\n"
   ]
  },
  {
   "cell_type": "code",
   "execution_count": 14,
   "metadata": {},
   "outputs": [
    {
     "name": "stdout",
     "output_type": "stream",
     "text": [
      "Cloning: 100%|██████████████████████| 2.00/2.00 [00:01<00:00, 1.25 candidates/s]\n",
      "Enumerating: 0.00 Objects [00:00, ? Objects/s]\u001b[A\n",
      "                                              \u001b[A\n",
      "Counting:   0%|                              | 0.00/63.9k [00:00<?, ? Objects/s]\u001b[A\n",
      "                                                                                \u001b[A\n",
      "Compressing:   0%|                           | 0.00/46.1k [00:00<?, ? Objects/s]\u001b[A\n",
      "Compressing:  43%|████████▏          | 19.8k/46.1k [00:00<00:00, 114k Objects/s]\u001b[A\n",
      "                                                                                \u001b[A\n",
      "Receiving:   0%|                             | 0.00/63.9k [00:00<?, ? Objects/s]\u001b[A\n",
      "Receiving:   1%|▏                     | 640/63.9k [00:00<00:55, 1.14k Objects/s]\u001b[A\n",
      "Receiving:   2%|▍                   | 1.38k/63.9k [00:01<00:53, 1.17k Objects/s]\u001b[A\n",
      "Receiving:   6%|█▏                  | 3.84k/63.9k [00:01<00:17, 3.41k Objects/s]\u001b[A\n",
      "Receiving:  16%|███▏                | 10.2k/63.9k [00:01<00:05, 9.58k Objects/s]\u001b[A\n",
      "Receiving:  24%|████▊               | 15.3k/63.9k [00:01<00:03, 13.2k Objects/s]\u001b[A\n",
      "Receiving:  28%|█████▌              | 17.9k/63.9k [00:01<00:03, 14.9k Objects/s]\u001b[A\n",
      "Receiving:  32%|██████▍             | 20.5k/63.9k [00:02<00:02, 16.2k Objects/s]\u001b[A\n",
      "Receiving:  36%|███████▏            | 23.0k/63.9k [00:02<00:02, 16.0k Objects/s]\u001b[A\n",
      "Receiving:  45%|█████████           | 28.8k/63.9k [00:02<00:01, 18.8k Objects/s]\u001b[A\n",
      "Receiving:  56%|███████████▏        | 35.8k/63.9k [00:02<00:01, 23.6k Objects/s]\u001b[A\n",
      "Receiving:  72%|██████████████▍     | 46.0k/63.9k [00:02<00:00, 30.5k Objects/s]\u001b[A\n",
      "Receiving:  81%|████████████████▏   | 51.8k/63.9k [00:03<00:00, 26.7k Objects/s]\u001b[A\n",
      "Receiving:  86%|█████████████████▏  | 55.0k/63.9k [00:03<00:00, 18.4k Objects/s]\u001b[A\n",
      "Receiving:  94%|██████████████████▊ | 60.1k/63.9k [00:03<00:00, 22.5k Objects/s]\u001b[A\n",
      "Receiving:  99%|███████████████████▊| 63.3k/63.9k [00:04<00:00, 18.4k Objects/s]\u001b[A\n",
      "                                                                                \u001b[A\n",
      "Resolving:   0%|                              | 0.00/13.4k [00:00<?, ? Deltas/s]\u001b[A\n",
      "Resolving:  30%|██████▎              | 4.04k/13.4k [00:00<00:00, 38.9k Deltas/s]\u001b[A\n",
      "Resolving:  59%|████████████▍        | 7.93k/13.4k [00:00<00:00, 37.2k Deltas/s]\u001b[A\n",
      "Resolving:  94%|███████████████████▋ | 12.6k/13.4k [00:00<00:00, 41.0k Deltas/s]\u001b[A\n",
      "[INFO   ] access to 1 dataset sibling s3-PRIVATE not auto-enabled, enable with: \u001b[A\n",
      "| \t\tdatalad siblings -d \"/Users/chunyilee/BXF_NDA/ds000224\" enable -s s3-PRIVATE \n",
      "\u001b[1;1minstall\u001b[0m(\u001b[1;32mok\u001b[0m): /Users/chunyilee/BXF_NDA/ds000224 (\u001b[1;35mdataset\u001b[0m)\n"
     ]
    },
    {
     "data": {
      "text/html": [
       "<div>\n",
       "<style scoped>\n",
       "    .dataframe tbody tr th:only-of-type {\n",
       "        vertical-align: middle;\n",
       "    }\n",
       "\n",
       "    .dataframe tbody tr th {\n",
       "        vertical-align: top;\n",
       "    }\n",
       "\n",
       "    .dataframe thead th {\n",
       "        text-align: right;\n",
       "    }\n",
       "</style>\n",
       "<table border=\"1\" class=\"dataframe\">\n",
       "  <thead>\n",
       "    <tr style=\"text-align: right;\">\n",
       "      <th></th>\n",
       "      <th>participant_id</th>\n",
       "      <th>gender</th>\n",
       "      <th>age</th>\n",
       "      <th>education_degree</th>\n",
       "      <th>education_years</th>\n",
       "    </tr>\n",
       "  </thead>\n",
       "  <tbody>\n",
       "    <tr>\n",
       "      <th>0</th>\n",
       "      <td>sub-MSC01</td>\n",
       "      <td>M</td>\n",
       "      <td>34</td>\n",
       "      <td>Doctorate</td>\n",
       "      <td>22.0</td>\n",
       "    </tr>\n",
       "    <tr>\n",
       "      <th>1</th>\n",
       "      <td>sub-MSC02</td>\n",
       "      <td>M</td>\n",
       "      <td>34</td>\n",
       "      <td>Doctorate</td>\n",
       "      <td>28.0</td>\n",
       "    </tr>\n",
       "    <tr>\n",
       "      <th>2</th>\n",
       "      <td>sub-MSC03</td>\n",
       "      <td>F</td>\n",
       "      <td>29</td>\n",
       "      <td>Masters</td>\n",
       "      <td>18.0</td>\n",
       "    </tr>\n",
       "    <tr>\n",
       "      <th>3</th>\n",
       "      <td>sub-MSC04</td>\n",
       "      <td>F</td>\n",
       "      <td>28</td>\n",
       "      <td>Bachelors</td>\n",
       "      <td>22.0</td>\n",
       "    </tr>\n",
       "    <tr>\n",
       "      <th>4</th>\n",
       "      <td>sub-MSC05</td>\n",
       "      <td>M</td>\n",
       "      <td>27</td>\n",
       "      <td>Bachelors</td>\n",
       "      <td>20.0</td>\n",
       "    </tr>\n",
       "    <tr>\n",
       "      <th>5</th>\n",
       "      <td>sub-MSC06</td>\n",
       "      <td>F</td>\n",
       "      <td>24</td>\n",
       "      <td>Bachelors</td>\n",
       "      <td>17.5</td>\n",
       "    </tr>\n",
       "    <tr>\n",
       "      <th>6</th>\n",
       "      <td>sub-MSC07</td>\n",
       "      <td>F</td>\n",
       "      <td>31</td>\n",
       "      <td>Masters</td>\n",
       "      <td>20.0</td>\n",
       "    </tr>\n",
       "    <tr>\n",
       "      <th>7</th>\n",
       "      <td>sub-MSC08</td>\n",
       "      <td>F</td>\n",
       "      <td>27</td>\n",
       "      <td>Professional</td>\n",
       "      <td>21.0</td>\n",
       "    </tr>\n",
       "    <tr>\n",
       "      <th>8</th>\n",
       "      <td>sub-MSC09</td>\n",
       "      <td>M</td>\n",
       "      <td>26</td>\n",
       "      <td>Professional</td>\n",
       "      <td>19.0</td>\n",
       "    </tr>\n",
       "    <tr>\n",
       "      <th>9</th>\n",
       "      <td>sub-MSC10</td>\n",
       "      <td>M</td>\n",
       "      <td>31</td>\n",
       "      <td>Professional</td>\n",
       "      <td>19.0</td>\n",
       "    </tr>\n",
       "  </tbody>\n",
       "</table>\n",
       "</div>"
      ],
      "text/plain": [
       "  participant_id gender  age education_degree  education_years\n",
       "0      sub-MSC01      M   34        Doctorate             22.0\n",
       "1      sub-MSC02      M   34        Doctorate             28.0\n",
       "2      sub-MSC03      F   29          Masters             18.0\n",
       "3      sub-MSC04      F   28        Bachelors             22.0\n",
       "4      sub-MSC05      M   27        Bachelors             20.0\n",
       "5      sub-MSC06      F   24        Bachelors             17.5\n",
       "6      sub-MSC07      F   31          Masters             20.0\n",
       "7      sub-MSC08      F   27     Professional             21.0\n",
       "8      sub-MSC09      M   26     Professional             19.0\n",
       "9      sub-MSC10      M   31     Professional             19.0"
      ]
     },
     "execution_count": 14,
     "metadata": {},
     "output_type": "execute_result"
    }
   ],
   "source": [
    "# Clone a Midnight Brain Scan dataset from this [Git repository](https://github.com/OpenNeuroDatasets/ds000224). Use `pybids` to load the `participant.tsv` file as a pandas dataframe in Python.\n",
    "# a pandas dataframe using pybids generated from the Midnight Brain Scan dataset\n",
    "\n",
    "!datalad clone ///openneuro/ds000224\n",
    "layout = BIDSLayout('/Users/chunyilee/BXF_NDA/ds000224')\n",
    "participants = layout.get(suffix='participants', extension='tsv')[0]\n",
    "participants.get_df()\n"
   ]
  },
  {
   "cell_type": "code",
   "execution_count": null,
   "metadata": {},
   "outputs": [],
   "source": []
  }
 ],
 "metadata": {
  "kernelspec": {
   "display_name": "naturalistic",
   "language": "python",
   "name": "naturalistic"
  },
  "language_info": {
   "codemirror_mode": {
    "name": "ipython",
    "version": 3
   },
   "file_extension": ".py",
   "mimetype": "text/x-python",
   "name": "python",
   "nbconvert_exporter": "python",
   "pygments_lexer": "ipython3",
   "version": "3.7.13"
  }
 },
 "nbformat": 4,
 "nbformat_minor": 2
}
