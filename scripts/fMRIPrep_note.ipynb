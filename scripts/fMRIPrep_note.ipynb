{
 "cells": [
  {
   "cell_type": "code",
   "execution_count": 24,
   "id": "60c711cb",
   "metadata": {},
   "outputs": [],
   "source": [
    "# fMRIPrep_note"
   ]
  },
  {
   "cell_type": "code",
   "execution_count": null,
   "id": "7e45d181",
   "metadata": {},
   "outputs": [],
   "source": [
    "# setting freesurfer licence\n",
    "export FS_LICENSE=$FREESURFER_HOME/license.txt\n",
    "fmriprep-docker ./sourcedata ./derivatives participant\n",
    "\n",
    "#fmriprep\n",
    "datdir=/bml/Data/Bank4/Forest_Therapy/MRI_data/BXF_MRI\n",
    "docker run --rm -it -v ${datdir}/Nifti:/data:ro \\\n",
    "\t-v ${datdir}/derivatives:/out \\\n",
    "\t-v ${datdir}/fmriprep_work:/work \\\n",
    "\t-u $( id -u ):$( id -g ) \\\n",
    "\tnipreps/fmriprep:latest \\\n",
    "\t/data /out participant -w /work \\\n",
    "\t--participant-label \\\n",
    "\tsub-01 sub-02 sub-03 sub-04 sub-05 sub-06 sub-07 \\\n",
    "\t--fs-license-file /work/FS_license.txt\n",
    "                        "
   ]
  },
  {
   "cell_type": "code",
   "execution_count": null,
   "id": "72ac6601",
   "metadata": {},
   "outputs": [],
   "source": [
    "# 20230521\n",
    "\n",
    "#fmriprep\n",
    "datdir=/bml/Data/Bank4/Forest_Therapy/MRI_data/BXF_MRI\n",
    "docker run --rm -it -v ${datdir}/Nifti:/data:ro \\\n",
    "\t-v ${datdir}/derivatives:/out \\\n",
    "\t-v ${datdir}/fmriprep_work:/work \\\n",
    "\t-u $( id -u ):$( id -g ) \\\n",
    "\tnipreps/fmriprep:latest \\\n",
    "\t/data /out participant -w /work \\\n",
    "\t--participant-label \\\n",
    "\tsub-09 sub-10 sub-11 sub-12 sub-13 sub-14 sub-15 sub-16 sub-17 sub-18 sub-19 sub-20 \\\n",
    "\t--fs-license-file /work/FS_license.txt"
   ]
  },
  {
   "cell_type": "code",
   "execution_count": 28,
   "id": "1cc2be9c",
   "metadata": {},
   "outputs": [
    {
     "data": {
      "text/html": [
       "\t\t\t<h3 class=\"elem-title\">Note on orientation: qform matrix overwritten</h3>\n",
       "\t\t\t    <p class=\"elem-desc\">\n",
       "\t\t\t    The qform has been copied from sform.\n",
       "\t\t\t    The difference in angle is 0.00047 radians.\n",
       "\t\t\t    The difference in translation is 7.9e-15mm.\n",
       "\t\t\t    </p>\n",
       "    \n"
      ],
      "text/plain": [
       "<IPython.core.display.HTML object>"
      ]
     },
     "execution_count": 28,
     "metadata": {},
     "output_type": "execute_result"
    }
   ],
   "source": [
    "from IPython.display import HTML\n",
    "HTML('/bml/Data/Bank4/Forest_Therapy/MRI_data/BXF_MRI/derivatives/sub-01/figures/sub-01_desc-about_T1w.html')\n",
    "HTML('/bml/Data/Bank4/Forest_Therapy/MRI_data/BXF_MRI/derivatives/sub-01/figures/sub-01_task-rest_desc-validation_bold.html')"
   ]
  },
  {
   "cell_type": "code",
   "execution_count": null,
   "id": "f3e5c3d2",
   "metadata": {},
   "outputs": [],
   "source": [
    "# Consanlab Preprocessing #not work for now QQ\n",
    "# https://github.com/cosanlab/cosanlab_preproc\n",
    "\n",
    "pip uninstall pybids\n",
    "pip install pybids==0.6.5\n",
    "pip install git+https://github.com/cosanlab/cosanlab_preproc\n"
   ]
  },
  {
   "cell_type": "code",
   "execution_count": 23,
   "id": "f09b4bae",
   "metadata": {},
   "outputs": [
    {
     "ename": "IndexError",
     "evalue": "list index out of range",
     "output_type": "error",
     "traceback": [
      "\u001b[0;31m---------------------------------------------------------------------------\u001b[0m",
      "\u001b[0;31mIndexError\u001b[0m                                Traceback (most recent call last)",
      "\u001b[0;32m/tmp/ipykernel_20340/1947225403.py\u001b[0m in \u001b[0;36m<module>\u001b[0;34m\u001b[0m\n\u001b[1;32m      4\u001b[0m                 \u001b[0mproject_dir\u001b[0m \u001b[0;34m=\u001b[0m \u001b[0;34m'/home/.bml/Data/Bank4/Forest_Therapy/MRI_data/BXF_MRI'\u001b[0m\u001b[0;34m,\u001b[0m\u001b[0;34m\u001b[0m\u001b[0;34m\u001b[0m\u001b[0m\n\u001b[1;32m      5\u001b[0m                 \u001b[0mraw_dir\u001b[0m \u001b[0;34m=\u001b[0m \u001b[0;34m'Nifti'\u001b[0m\u001b[0;34m,\u001b[0m\u001b[0;34m\u001b[0m\u001b[0;34m\u001b[0m\u001b[0m\n\u001b[0;32m----> 6\u001b[0;31m                 subject_id = 'sub-s01')\n\u001b[0m\u001b[1;32m      7\u001b[0m \u001b[0;34m\u001b[0m\u001b[0m\n\u001b[1;32m      8\u001b[0m \u001b[0mworkflow\u001b[0m\u001b[0;34m.\u001b[0m\u001b[0mrun\u001b[0m\u001b[0;34m(\u001b[0m\u001b[0;34m'MultiProc'\u001b[0m\u001b[0;34m,\u001b[0m\u001b[0mplugin_args\u001b[0m \u001b[0;34m=\u001b[0m \u001b[0;34m{\u001b[0m\u001b[0;34m'n_procs'\u001b[0m\u001b[0;34m:\u001b[0m \u001b[0;36m16\u001b[0m\u001b[0;34m}\u001b[0m\u001b[0;34m)\u001b[0m\u001b[0;34m\u001b[0m\u001b[0;34m\u001b[0m\u001b[0m\n",
      "\u001b[0;32m~/.conda/envs/naturalistic/lib/python3.7/site-packages/cosanlab_preproc/wfmaker.py\u001b[0m in \u001b[0;36mwfmaker\u001b[0;34m(project_dir, raw_dir, subject_id, task_name, apply_trim, apply_dist_corr, apply_smooth, apply_filter, mni_template, apply_n4, ants_threads, readable_crash_files, write_logs)\u001b[0m\n\u001b[1;32m    106\u001b[0m     \u001b[0msessions\u001b[0m \u001b[0;34m=\u001b[0m \u001b[0mlayout\u001b[0m\u001b[0;34m.\u001b[0m\u001b[0mget_sessions\u001b[0m\u001b[0;34m(\u001b[0m\u001b[0;34m)\u001b[0m\u001b[0;34m\u001b[0m\u001b[0;34m\u001b[0m\u001b[0m\n\u001b[1;32m    107\u001b[0m     \u001b[0;32mif\u001b[0m \u001b[0mlen\u001b[0m\u001b[0;34m(\u001b[0m\u001b[0msessions\u001b[0m\u001b[0;34m)\u001b[0m \u001b[0;34m<=\u001b[0m \u001b[0;36m1\u001b[0m\u001b[0;34m:\u001b[0m\u001b[0;34m\u001b[0m\u001b[0;34m\u001b[0m\u001b[0m\n\u001b[0;32m--> 108\u001b[0;31m         \u001b[0manat\u001b[0m\u001b[0;34m,\u001b[0m \u001b[0mfuncs\u001b[0m\u001b[0;34m,\u001b[0m \u001b[0mfmaps\u001b[0m \u001b[0;34m=\u001b[0m \u001b[0mfile_getter\u001b[0m\u001b[0;34m(\u001b[0m\u001b[0mlayout\u001b[0m\u001b[0;34m,\u001b[0m \u001b[0msubId\u001b[0m\u001b[0;34m,\u001b[0m \u001b[0mapply_dist_corr\u001b[0m\u001b[0;34m,\u001b[0m \u001b[0mtask_name\u001b[0m\u001b[0;34m)\u001b[0m\u001b[0;34m\u001b[0m\u001b[0;34m\u001b[0m\u001b[0m\n\u001b[0m\u001b[1;32m    109\u001b[0m         \u001b[0mworkflow\u001b[0m \u001b[0;34m=\u001b[0m \u001b[0mbuilder\u001b[0m\u001b[0;34m(\u001b[0m\u001b[0msubject_id\u001b[0m\u001b[0;34m=\u001b[0m\u001b[0msubject_id\u001b[0m\u001b[0;34m,\u001b[0m \u001b[0msubId\u001b[0m\u001b[0;34m=\u001b[0m\u001b[0msubId\u001b[0m\u001b[0;34m,\u001b[0m \u001b[0mproject_dir\u001b[0m\u001b[0;34m=\u001b[0m\u001b[0mproject_dir\u001b[0m\u001b[0;34m,\u001b[0m \u001b[0mdata_dir\u001b[0m\u001b[0;34m=\u001b[0m\u001b[0mdata_dir\u001b[0m\u001b[0;34m,\u001b[0m \u001b[0moutput_dir\u001b[0m\u001b[0;34m=\u001b[0m\u001b[0moutput_dir\u001b[0m\u001b[0;34m,\u001b[0m \u001b[0moutput_final_dir\u001b[0m\u001b[0;34m=\u001b[0m\u001b[0moutput_final_dir\u001b[0m\u001b[0;34m,\u001b[0m \u001b[0moutput_interm_dir\u001b[0m\u001b[0;34m=\u001b[0m\u001b[0moutput_interm_dir\u001b[0m\u001b[0;34m,\u001b[0m \u001b[0mlayout\u001b[0m\u001b[0;34m=\u001b[0m\u001b[0mlayout\u001b[0m\u001b[0;34m,\u001b[0m \u001b[0manat\u001b[0m\u001b[0;34m=\u001b[0m\u001b[0manat\u001b[0m\u001b[0;34m,\u001b[0m \u001b[0mfuncs\u001b[0m\u001b[0;34m=\u001b[0m\u001b[0mfuncs\u001b[0m\u001b[0;34m,\u001b[0m \u001b[0mfmaps\u001b[0m\u001b[0;34m=\u001b[0m\u001b[0mfmaps\u001b[0m\u001b[0;34m,\u001b[0m \u001b[0mtask_name\u001b[0m\u001b[0;34m=\u001b[0m\u001b[0mtask_name\u001b[0m\u001b[0;34m,\u001b[0m \u001b[0msession\u001b[0m\u001b[0;34m=\u001b[0m\u001b[0;32mNone\u001b[0m\u001b[0;34m,\u001b[0m \u001b[0mapply_trim\u001b[0m\u001b[0;34m=\u001b[0m\u001b[0mapply_trim\u001b[0m\u001b[0;34m,\u001b[0m \u001b[0mapply_dist_corr\u001b[0m\u001b[0;34m=\u001b[0m\u001b[0mapply_dist_corr\u001b[0m\u001b[0;34m,\u001b[0m \u001b[0mapply_smooth\u001b[0m\u001b[0;34m=\u001b[0m\u001b[0mapply_smooth\u001b[0m\u001b[0;34m,\u001b[0m \u001b[0mapply_filter\u001b[0m\u001b[0;34m=\u001b[0m\u001b[0mapply_filter\u001b[0m\u001b[0;34m,\u001b[0m \u001b[0mmni_template\u001b[0m\u001b[0;34m=\u001b[0m\u001b[0mmni_template\u001b[0m\u001b[0;34m,\u001b[0m \u001b[0mapply_n4\u001b[0m\u001b[0;34m=\u001b[0m\u001b[0mapply_n4\u001b[0m\u001b[0;34m,\u001b[0m \u001b[0mants_threads\u001b[0m\u001b[0;34m=\u001b[0m\u001b[0mants_threads\u001b[0m\u001b[0;34m,\u001b[0m \u001b[0mreadable_crash_files\u001b[0m\u001b[0;34m=\u001b[0m\u001b[0mreadable_crash_files\u001b[0m\u001b[0;34m,\u001b[0m \u001b[0mwrite_logs\u001b[0m\u001b[0;34m=\u001b[0m\u001b[0mwrite_logs\u001b[0m\u001b[0;34m)\u001b[0m\u001b[0;34m\u001b[0m\u001b[0;34m\u001b[0m\u001b[0m\n\u001b[1;32m    110\u001b[0m     \u001b[0;32melse\u001b[0m\u001b[0;34m:\u001b[0m\u001b[0;34m\u001b[0m\u001b[0;34m\u001b[0m\u001b[0m\n",
      "\u001b[0;32m~/.conda/envs/naturalistic/lib/python3.7/site-packages/cosanlab_preproc/utils.py\u001b[0m in \u001b[0;36mfile_getter\u001b[0;34m(layout, subject_id, dist_corr, task_name, session)\u001b[0m\n\u001b[1;32m     79\u001b[0m             \u001b[0mfmaps\u001b[0m \u001b[0;34m=\u001b[0m \u001b[0;34m[\u001b[0m\u001b[0;34m]\u001b[0m\u001b[0;34m\u001b[0m\u001b[0;34m\u001b[0m\u001b[0m\n\u001b[1;32m     80\u001b[0m     \u001b[0;32melse\u001b[0m\u001b[0;34m:\u001b[0m\u001b[0;34m\u001b[0m\u001b[0;34m\u001b[0m\u001b[0m\n\u001b[0;32m---> 81\u001b[0;31m         \u001b[0manat\u001b[0m \u001b[0;34m=\u001b[0m \u001b[0mlayout\u001b[0m\u001b[0;34m.\u001b[0m\u001b[0mget\u001b[0m\u001b[0;34m(\u001b[0m\u001b[0msubject\u001b[0m\u001b[0;34m=\u001b[0m\u001b[0msubject_id\u001b[0m\u001b[0;34m,\u001b[0m \u001b[0mtype\u001b[0m\u001b[0;34m=\u001b[0m\u001b[0;34m'T1w'\u001b[0m\u001b[0;34m,\u001b[0m \u001b[0mextensions\u001b[0m\u001b[0;34m=\u001b[0m\u001b[0;34m'.nii.gz'\u001b[0m\u001b[0;34m)\u001b[0m\u001b[0;34m[\u001b[0m\u001b[0;36m0\u001b[0m\u001b[0;34m]\u001b[0m\u001b[0;34m.\u001b[0m\u001b[0mfilename\u001b[0m\u001b[0;34m\u001b[0m\u001b[0;34m\u001b[0m\u001b[0m\n\u001b[0m\u001b[1;32m     82\u001b[0m         \u001b[0;32mif\u001b[0m \u001b[0mtask_name\u001b[0m\u001b[0;34m:\u001b[0m\u001b[0;34m\u001b[0m\u001b[0;34m\u001b[0m\u001b[0m\n\u001b[1;32m     83\u001b[0m             \u001b[0mfuncs\u001b[0m \u001b[0;34m=\u001b[0m \u001b[0;34m[\u001b[0m\u001b[0mf\u001b[0m\u001b[0;34m.\u001b[0m\u001b[0mfilename\u001b[0m \u001b[0;32mfor\u001b[0m \u001b[0mf\u001b[0m \u001b[0;32min\u001b[0m \u001b[0mlayout\u001b[0m\u001b[0;34m.\u001b[0m\u001b[0mget\u001b[0m\u001b[0;34m(\u001b[0m\u001b[0msubject\u001b[0m\u001b[0;34m=\u001b[0m\u001b[0msubject_id\u001b[0m\u001b[0;34m,\u001b[0m \u001b[0mtype\u001b[0m\u001b[0;34m=\u001b[0m\u001b[0;34m'bold'\u001b[0m\u001b[0;34m,\u001b[0m \u001b[0mtask\u001b[0m\u001b[0;34m=\u001b[0m\u001b[0mtask_name\u001b[0m\u001b[0;34m,\u001b[0m \u001b[0mextensions\u001b[0m\u001b[0;34m=\u001b[0m\u001b[0;34m'.nii.gz'\u001b[0m\u001b[0;34m)\u001b[0m\u001b[0;34m]\u001b[0m\u001b[0;34m\u001b[0m\u001b[0;34m\u001b[0m\u001b[0m\n",
      "\u001b[0;31mIndexError\u001b[0m: list index out of range"
     ]
    }
   ],
   "source": [
    "from cosanlab_preproc.wfmaker import wfmaker\n",
    "\n",
    "workflow = wfmaker(\n",
    "                project_dir = '/home/.bml/Data/Bank4/Forest_Therapy/MRI_data/BXF_MRI',\n",
    "                raw_dir = 'Nifti',\n",
    "                subject_id = 'sub-s01')\n",
    "\n",
    "workflow.run('MultiProc',plugin_args = {'n_procs': 16})"
   ]
  },
  {
   "cell_type": "code",
   "execution_count": null,
   "id": "452e9d0b",
   "metadata": {},
   "outputs": [],
   "source": []
  }
 ],
 "metadata": {
  "kernelspec": {
   "display_name": "naturalistic",
   "language": "python",
   "name": "naturalistic"
  },
  "language_info": {
   "codemirror_mode": {
    "name": "ipython",
    "version": 3
   },
   "file_extension": ".py",
   "mimetype": "text/x-python",
   "name": "python",
   "nbconvert_exporter": "python",
   "pygments_lexer": "ipython3",
   "version": "3.7.13"
  }
 },
 "nbformat": 4,
 "nbformat_minor": 5
}
