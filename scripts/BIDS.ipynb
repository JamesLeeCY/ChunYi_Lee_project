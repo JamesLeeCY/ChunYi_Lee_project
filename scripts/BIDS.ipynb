{
 "cells": [
  {
   "cell_type": "code",
   "execution_count": null,
   "id": "90ba7301",
   "metadata": {},
   "outputs": [],
   "source": [
    "#BIDS\n",
    "# https://reproducibility.stanford.edu/bids-tutorial-series-part-2a/"
   ]
  },
  {
   "cell_type": "code",
   "execution_count": null,
   "id": "9e35f714",
   "metadata": {},
   "outputs": [],
   "source": [
    "docker pull nipy/heudiconv:latest\n",
    "docker run --rm -it -v /bml/Data/Bank4/Forest_Therapy/MRI_data:/base nipy/heudiconv:latest -d /base/BXF_MRI/DICOM/BXF0{subject}/*/*.IMA -o /base/BXF_MRI/Nifti/ -f convertall -s 01 -c none --overwrite"
   ]
  },
  {
   "cell_type": "code",
   "execution_count": null,
   "id": "2754818e",
   "metadata": {},
   "outputs": [],
   "source": [
    "# SeriesDescription: sequence name"
   ]
  },
  {
   "cell_type": "code",
   "execution_count": null,
   "id": "2976cdf0",
   "metadata": {},
   "outputs": [],
   "source": [
    "cp /bml/Data/Bank4/Forest_Therapy/MRI_data/Nifti/.heudiconv/01/info/dicominfo.tsv /bml/Data/Bank4/Forest_Therapy/MRI_data/"
   ]
  },
  {
   "cell_type": "code",
   "execution_count": null,
   "id": "0f7cc1e2",
   "metadata": {},
   "outputs": [],
   "source": [
    "docker run --rm -it -v /bml/Data/Bank4/Forest_Therapy/MRI_data:/base nipy/heudiconv:latest -d /base/BXF_MRI/DICOM/BXF0{subject}/*/*.IMA -o /base/BXF_MRI/Nifti/ -f /base/BXF_MRI/Nifti/code/heuristic.py -s 01 -c dcm2niix -b --overwrite\n",
    "\n",
    "docker run --rm -it -v /bml/Data/Bank4/Forest_Therapy/MRI_data:/base nipy/heudiconv:latest -d /base/BXF_MRI/DICOM/BXF0{subject}/*/*.IMA -o /base/BXF_MRI/Nifti/ -f /base/BXF_MRI/Nifti/code/heuristic.py -s 02 03 -c dcm2niix -b --overwrite\n",
    "\n",
    "docker run --rm -it -v /bml/Data/Bank4/Forest_Therapy/MRI_data:/base nipy/heudiconv:latest -d /base/BXF_MRI/DICOM/BXF0{subject}/*/*.IMA -o /base/BXF_MRI/Nifti/ -f /base/BXF_MRI/Nifti/code/heuristic.py -s 04 05 06 07 -c dcm2niix -b --overwrite"
   ]
  }
 ],
 "metadata": {
  "kernelspec": {
   "display_name": "naturalistic",
   "language": "python",
   "name": "naturalistic"
  },
  "language_info": {
   "codemirror_mode": {
    "name": "ipython",
    "version": 3
   },
   "file_extension": ".py",
   "mimetype": "text/x-python",
   "name": "python",
   "nbconvert_exporter": "python",
   "pygments_lexer": "ipython3",
   "version": "3.7.13"
  }
 },
 "nbformat": 4,
 "nbformat_minor": 5
}
