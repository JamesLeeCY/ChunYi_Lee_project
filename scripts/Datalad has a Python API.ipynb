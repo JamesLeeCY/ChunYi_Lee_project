{
 "cells": [
  {
   "cell_type": "code",
   "execution_count": 22,
   "id": "9890efff",
   "metadata": {},
   "outputs": [
    {
     "name": "stdout",
     "output_type": "stream",
     "text": [
      "core.repositoryformatversion=0\r\n",
      "core.filemode=true\r\n",
      "core.bare=false\r\n",
      "core.logallrefupdates=true\r\n",
      "user.email=james820102@gmail.com\r\n",
      "user.name=chunyilee\r\n"
     ]
    }
   ],
   "source": [
    "!git config --list\n",
    "!git config --global user.email \"james820102@gmail.com\"\n",
    "!git config --global user.name \"chunyilee\""
   ]
  },
  {
   "cell_type": "code",
   "execution_count": 23,
   "id": "3a405a65",
   "metadata": {},
   "outputs": [
    {
     "data": {
      "text/plain": [
       "Dataset('/bml/Data/Bank4/Forest_Therapy/MRI_data/Sherlock')"
      ]
     },
     "execution_count": 23,
     "metadata": {},
     "output_type": "execute_result"
    }
   ],
   "source": [
    "import os\n",
    "import glob\n",
    "import datalad.api as dl\n",
    "import pandas as pd\n",
    "\n",
    "sherlock_path = '/bml/Data/Bank4/Forest_Therapy/MRI_data/Sherlock'\n",
    "\n",
    "dl.clone(source='https://gin.g-node.org/ljchang/Sherlock', path=sherlock_path)"
   ]
  },
  {
   "cell_type": "code",
   "execution_count": 24,
   "id": "76889e65",
   "metadata": {},
   "outputs": [
    {
     "name": "stdout",
     "output_type": "stream",
     "text": [
      "1350 annex'd files (0.0 B/109.0 GB present/total size)\n",
      "nothing to save, working tree clean\n"
     ]
    }
   ],
   "source": [
    "ds = dl.Dataset(sherlock_path)\n",
    "results = ds.status(annex='all')"
   ]
  },
  {
   "cell_type": "code",
   "execution_count": 25,
   "id": "da7918c6",
   "metadata": {},
   "outputs": [
    {
     "data": {
      "text/plain": [
       "['/bml/Data/Bank4/Forest_Therapy/MRI_data/Sherlock/fmriprep/sub-01/func/sub-01_task-freerecall_desc-confounds_regressors.tsv',\n",
       " '/bml/Data/Bank4/Forest_Therapy/MRI_data/Sherlock/fmriprep/sub-01/func/sub-01_task-sherlockPart1_desc-confounds_regressors.tsv',\n",
       " '/bml/Data/Bank4/Forest_Therapy/MRI_data/Sherlock/fmriprep/sub-01/func/sub-01_task-sherlockPart2_desc-confounds_regressors.tsv',\n",
       " '/bml/Data/Bank4/Forest_Therapy/MRI_data/Sherlock/fmriprep/sub-02/func/sub-02_task-freerecall_desc-confounds_regressors.tsv',\n",
       " '/bml/Data/Bank4/Forest_Therapy/MRI_data/Sherlock/fmriprep/sub-02/func/sub-02_task-sherlockPart1_desc-confounds_regressors.tsv',\n",
       " '/bml/Data/Bank4/Forest_Therapy/MRI_data/Sherlock/fmriprep/sub-02/func/sub-02_task-sherlockPart2_desc-confounds_regressors.tsv',\n",
       " '/bml/Data/Bank4/Forest_Therapy/MRI_data/Sherlock/fmriprep/sub-03/func/sub-03_task-freerecall_desc-confounds_regressors.tsv',\n",
       " '/bml/Data/Bank4/Forest_Therapy/MRI_data/Sherlock/fmriprep/sub-03/func/sub-03_task-sherlockPart1_desc-confounds_regressors.tsv',\n",
       " '/bml/Data/Bank4/Forest_Therapy/MRI_data/Sherlock/fmriprep/sub-03/func/sub-03_task-sherlockPart2_desc-confounds_regressors.tsv',\n",
       " '/bml/Data/Bank4/Forest_Therapy/MRI_data/Sherlock/fmriprep/sub-04/func/sub-04_task-freerecall_desc-confounds_regressors.tsv',\n",
       " '/bml/Data/Bank4/Forest_Therapy/MRI_data/Sherlock/fmriprep/sub-04/func/sub-04_task-sherlockPart1_desc-confounds_regressors.tsv',\n",
       " '/bml/Data/Bank4/Forest_Therapy/MRI_data/Sherlock/fmriprep/sub-04/func/sub-04_task-sherlockPart2_desc-confounds_regressors.tsv',\n",
       " '/bml/Data/Bank4/Forest_Therapy/MRI_data/Sherlock/fmriprep/sub-05/func/sub-05_task-freerecall_desc-confounds_regressors.tsv',\n",
       " '/bml/Data/Bank4/Forest_Therapy/MRI_data/Sherlock/fmriprep/sub-05/func/sub-05_task-sherlockPart1_desc-confounds_regressors.tsv',\n",
       " '/bml/Data/Bank4/Forest_Therapy/MRI_data/Sherlock/fmriprep/sub-05/func/sub-05_task-sherlockPart2_desc-confounds_regressors.tsv',\n",
       " '/bml/Data/Bank4/Forest_Therapy/MRI_data/Sherlock/fmriprep/sub-06/func/sub-06_task-freerecall_desc-confounds_regressors.tsv',\n",
       " '/bml/Data/Bank4/Forest_Therapy/MRI_data/Sherlock/fmriprep/sub-06/func/sub-06_task-sherlockPart1_desc-confounds_regressors.tsv',\n",
       " '/bml/Data/Bank4/Forest_Therapy/MRI_data/Sherlock/fmriprep/sub-06/func/sub-06_task-sherlockPart2_desc-confounds_regressors.tsv',\n",
       " '/bml/Data/Bank4/Forest_Therapy/MRI_data/Sherlock/fmriprep/sub-07/func/sub-07_task-freerecall_desc-confounds_regressors.tsv',\n",
       " '/bml/Data/Bank4/Forest_Therapy/MRI_data/Sherlock/fmriprep/sub-07/func/sub-07_task-sherlockPart1_desc-confounds_regressors.tsv',\n",
       " '/bml/Data/Bank4/Forest_Therapy/MRI_data/Sherlock/fmriprep/sub-07/func/sub-07_task-sherlockPart2_desc-confounds_regressors.tsv',\n",
       " '/bml/Data/Bank4/Forest_Therapy/MRI_data/Sherlock/fmriprep/sub-08/func/sub-08_task-freerecall_desc-confounds_regressors.tsv',\n",
       " '/bml/Data/Bank4/Forest_Therapy/MRI_data/Sherlock/fmriprep/sub-08/func/sub-08_task-sherlockPart1_desc-confounds_regressors.tsv',\n",
       " '/bml/Data/Bank4/Forest_Therapy/MRI_data/Sherlock/fmriprep/sub-08/func/sub-08_task-sherlockPart2_desc-confounds_regressors.tsv',\n",
       " '/bml/Data/Bank4/Forest_Therapy/MRI_data/Sherlock/fmriprep/sub-09/func/sub-09_task-freerecall_desc-confounds_regressors.tsv',\n",
       " '/bml/Data/Bank4/Forest_Therapy/MRI_data/Sherlock/fmriprep/sub-09/func/sub-09_task-sherlockPart1_desc-confounds_regressors.tsv',\n",
       " '/bml/Data/Bank4/Forest_Therapy/MRI_data/Sherlock/fmriprep/sub-09/func/sub-09_task-sherlockPart2_desc-confounds_regressors.tsv',\n",
       " '/bml/Data/Bank4/Forest_Therapy/MRI_data/Sherlock/fmriprep/sub-10/func/sub-10_task-freerecall_desc-confounds_regressors.tsv',\n",
       " '/bml/Data/Bank4/Forest_Therapy/MRI_data/Sherlock/fmriprep/sub-10/func/sub-10_task-sherlockPart1_desc-confounds_regressors.tsv',\n",
       " '/bml/Data/Bank4/Forest_Therapy/MRI_data/Sherlock/fmriprep/sub-10/func/sub-10_task-sherlockPart2_desc-confounds_regressors.tsv',\n",
       " '/bml/Data/Bank4/Forest_Therapy/MRI_data/Sherlock/fmriprep/sub-11/func/sub-11_task-freerecall_desc-confounds_regressors.tsv',\n",
       " '/bml/Data/Bank4/Forest_Therapy/MRI_data/Sherlock/fmriprep/sub-11/func/sub-11_task-sherlockPart1_desc-confounds_regressors.tsv',\n",
       " '/bml/Data/Bank4/Forest_Therapy/MRI_data/Sherlock/fmriprep/sub-11/func/sub-11_task-sherlockPart2_desc-confounds_regressors.tsv',\n",
       " '/bml/Data/Bank4/Forest_Therapy/MRI_data/Sherlock/fmriprep/sub-12/func/sub-12_task-freerecall_desc-confounds_regressors.tsv',\n",
       " '/bml/Data/Bank4/Forest_Therapy/MRI_data/Sherlock/fmriprep/sub-12/func/sub-12_task-sherlockPart1_desc-confounds_regressors.tsv',\n",
       " '/bml/Data/Bank4/Forest_Therapy/MRI_data/Sherlock/fmriprep/sub-12/func/sub-12_task-sherlockPart2_desc-confounds_regressors.tsv',\n",
       " '/bml/Data/Bank4/Forest_Therapy/MRI_data/Sherlock/fmriprep/sub-13/func/sub-13_task-freerecall_desc-confounds_regressors.tsv',\n",
       " '/bml/Data/Bank4/Forest_Therapy/MRI_data/Sherlock/fmriprep/sub-13/func/sub-13_task-sherlockPart1_desc-confounds_regressors.tsv',\n",
       " '/bml/Data/Bank4/Forest_Therapy/MRI_data/Sherlock/fmriprep/sub-13/func/sub-13_task-sherlockPart2_desc-confounds_regressors.tsv',\n",
       " '/bml/Data/Bank4/Forest_Therapy/MRI_data/Sherlock/fmriprep/sub-14/func/sub-14_task-freerecall_desc-confounds_regressors.tsv',\n",
       " '/bml/Data/Bank4/Forest_Therapy/MRI_data/Sherlock/fmriprep/sub-14/func/sub-14_task-sherlockPart1_desc-confounds_regressors.tsv',\n",
       " '/bml/Data/Bank4/Forest_Therapy/MRI_data/Sherlock/fmriprep/sub-14/func/sub-14_task-sherlockPart2_desc-confounds_regressors.tsv',\n",
       " '/bml/Data/Bank4/Forest_Therapy/MRI_data/Sherlock/fmriprep/sub-15/func/sub-15_task-freerecall_desc-confounds_regressors.tsv',\n",
       " '/bml/Data/Bank4/Forest_Therapy/MRI_data/Sherlock/fmriprep/sub-15/func/sub-15_task-sherlockPart1_desc-confounds_regressors.tsv',\n",
       " '/bml/Data/Bank4/Forest_Therapy/MRI_data/Sherlock/fmriprep/sub-15/func/sub-15_task-sherlockPart2_desc-confounds_regressors.tsv',\n",
       " '/bml/Data/Bank4/Forest_Therapy/MRI_data/Sherlock/fmriprep/sub-16/func/sub-16_task-freerecall_desc-confounds_regressors.tsv',\n",
       " '/bml/Data/Bank4/Forest_Therapy/MRI_data/Sherlock/fmriprep/sub-16/func/sub-16_task-sherlockPart1_desc-confounds_regressors.tsv',\n",
       " '/bml/Data/Bank4/Forest_Therapy/MRI_data/Sherlock/fmriprep/sub-16/func/sub-16_task-sherlockPart2_desc-confounds_regressors.tsv']"
      ]
     },
     "execution_count": 25,
     "metadata": {},
     "output_type": "execute_result"
    }
   ],
   "source": [
    "file_list = glob.glob(os.path.join(sherlock_path, 'fmriprep', '*', 'func', '*tsv'))\n",
    "file_list.sort()\n",
    "file_list"
   ]
  },
  {
   "cell_type": "code",
   "execution_count": 26,
   "id": "ac0f9199",
   "metadata": {},
   "outputs": [
    {
     "name": "stdout",
     "output_type": "stream",
     "text": [
      "get(ok): fmriprep/sub-01/func/sub-01_task-freerecall_desc-confounds_regressors.tsv (file) [from origin...]\n"
     ]
    },
    {
     "data": {
      "text/html": [
       "<div>\n",
       "<style scoped>\n",
       "    .dataframe tbody tr th:only-of-type {\n",
       "        vertical-align: middle;\n",
       "    }\n",
       "\n",
       "    .dataframe tbody tr th {\n",
       "        vertical-align: top;\n",
       "    }\n",
       "\n",
       "    .dataframe thead th {\n",
       "        text-align: right;\n",
       "    }\n",
       "</style>\n",
       "<table border=\"1\" class=\"dataframe\">\n",
       "  <thead>\n",
       "    <tr style=\"text-align: right;\">\n",
       "      <th></th>\n",
       "      <th>csf</th>\n",
       "      <th>csf_derivative1</th>\n",
       "      <th>csf_derivative1_power2</th>\n",
       "      <th>csf_power2</th>\n",
       "      <th>white_matter</th>\n",
       "      <th>white_matter_derivative1</th>\n",
       "      <th>white_matter_power2</th>\n",
       "      <th>white_matter_derivative1_power2</th>\n",
       "      <th>global_signal</th>\n",
       "      <th>global_signal_derivative1</th>\n",
       "      <th>...</th>\n",
       "      <th>motion_outlier127</th>\n",
       "      <th>motion_outlier128</th>\n",
       "      <th>motion_outlier129</th>\n",
       "      <th>motion_outlier130</th>\n",
       "      <th>motion_outlier131</th>\n",
       "      <th>motion_outlier132</th>\n",
       "      <th>motion_outlier133</th>\n",
       "      <th>motion_outlier134</th>\n",
       "      <th>motion_outlier135</th>\n",
       "      <th>motion_outlier136</th>\n",
       "    </tr>\n",
       "  </thead>\n",
       "  <tbody>\n",
       "    <tr>\n",
       "      <th>0</th>\n",
       "      <td>897.394539</td>\n",
       "      <td>NaN</td>\n",
       "      <td>NaN</td>\n",
       "      <td>805316.958867</td>\n",
       "      <td>695.564895</td>\n",
       "      <td>NaN</td>\n",
       "      <td>483810.522970</td>\n",
       "      <td>NaN</td>\n",
       "      <td>635.368732</td>\n",
       "      <td>NaN</td>\n",
       "      <td>...</td>\n",
       "      <td>0.0</td>\n",
       "      <td>0.0</td>\n",
       "      <td>0.0</td>\n",
       "      <td>0.0</td>\n",
       "      <td>0.0</td>\n",
       "      <td>0.0</td>\n",
       "      <td>0.0</td>\n",
       "      <td>0.0</td>\n",
       "      <td>0.0</td>\n",
       "      <td>0.0</td>\n",
       "    </tr>\n",
       "    <tr>\n",
       "      <th>1</th>\n",
       "      <td>889.168301</td>\n",
       "      <td>-8.226238</td>\n",
       "      <td>67.670997</td>\n",
       "      <td>790620.267181</td>\n",
       "      <td>695.581487</td>\n",
       "      <td>0.016592</td>\n",
       "      <td>483833.605371</td>\n",
       "      <td>0.000275</td>\n",
       "      <td>633.147820</td>\n",
       "      <td>-2.220912</td>\n",
       "      <td>...</td>\n",
       "      <td>0.0</td>\n",
       "      <td>0.0</td>\n",
       "      <td>0.0</td>\n",
       "      <td>0.0</td>\n",
       "      <td>0.0</td>\n",
       "      <td>0.0</td>\n",
       "      <td>0.0</td>\n",
       "      <td>0.0</td>\n",
       "      <td>0.0</td>\n",
       "      <td>0.0</td>\n",
       "    </tr>\n",
       "    <tr>\n",
       "      <th>2</th>\n",
       "      <td>886.763733</td>\n",
       "      <td>-2.404568</td>\n",
       "      <td>5.781946</td>\n",
       "      <td>786349.918340</td>\n",
       "      <td>694.135813</td>\n",
       "      <td>-1.445674</td>\n",
       "      <td>481824.526707</td>\n",
       "      <td>2.089974</td>\n",
       "      <td>629.315476</td>\n",
       "      <td>-3.832344</td>\n",
       "      <td>...</td>\n",
       "      <td>0.0</td>\n",
       "      <td>0.0</td>\n",
       "      <td>0.0</td>\n",
       "      <td>0.0</td>\n",
       "      <td>0.0</td>\n",
       "      <td>0.0</td>\n",
       "      <td>0.0</td>\n",
       "      <td>0.0</td>\n",
       "      <td>0.0</td>\n",
       "      <td>0.0</td>\n",
       "    </tr>\n",
       "    <tr>\n",
       "      <th>3</th>\n",
       "      <td>879.587127</td>\n",
       "      <td>-7.176606</td>\n",
       "      <td>51.503680</td>\n",
       "      <td>773673.513408</td>\n",
       "      <td>693.405760</td>\n",
       "      <td>-0.730052</td>\n",
       "      <td>480811.548543</td>\n",
       "      <td>0.532977</td>\n",
       "      <td>626.664425</td>\n",
       "      <td>-2.651051</td>\n",
       "      <td>...</td>\n",
       "      <td>0.0</td>\n",
       "      <td>0.0</td>\n",
       "      <td>0.0</td>\n",
       "      <td>0.0</td>\n",
       "      <td>0.0</td>\n",
       "      <td>0.0</td>\n",
       "      <td>0.0</td>\n",
       "      <td>0.0</td>\n",
       "      <td>0.0</td>\n",
       "      <td>0.0</td>\n",
       "    </tr>\n",
       "    <tr>\n",
       "      <th>4</th>\n",
       "      <td>881.602440</td>\n",
       "      <td>2.015313</td>\n",
       "      <td>4.061486</td>\n",
       "      <td>777222.861394</td>\n",
       "      <td>692.787848</td>\n",
       "      <td>-0.617913</td>\n",
       "      <td>479955.002077</td>\n",
       "      <td>0.381816</td>\n",
       "      <td>628.319190</td>\n",
       "      <td>1.654765</td>\n",
       "      <td>...</td>\n",
       "      <td>0.0</td>\n",
       "      <td>0.0</td>\n",
       "      <td>0.0</td>\n",
       "      <td>0.0</td>\n",
       "      <td>0.0</td>\n",
       "      <td>0.0</td>\n",
       "      <td>0.0</td>\n",
       "      <td>0.0</td>\n",
       "      <td>0.0</td>\n",
       "      <td>0.0</td>\n",
       "    </tr>\n",
       "  </tbody>\n",
       "</table>\n",
       "<p>5 rows × 389 columns</p>\n",
       "</div>"
      ],
      "text/plain": [
       "          csf  csf_derivative1  csf_derivative1_power2     csf_power2  \\\n",
       "0  897.394539              NaN                     NaN  805316.958867   \n",
       "1  889.168301        -8.226238               67.670997  790620.267181   \n",
       "2  886.763733        -2.404568                5.781946  786349.918340   \n",
       "3  879.587127        -7.176606               51.503680  773673.513408   \n",
       "4  881.602440         2.015313                4.061486  777222.861394   \n",
       "\n",
       "   white_matter  white_matter_derivative1  white_matter_power2  \\\n",
       "0    695.564895                       NaN        483810.522970   \n",
       "1    695.581487                  0.016592        483833.605371   \n",
       "2    694.135813                 -1.445674        481824.526707   \n",
       "3    693.405760                 -0.730052        480811.548543   \n",
       "4    692.787848                 -0.617913        479955.002077   \n",
       "\n",
       "   white_matter_derivative1_power2  global_signal  global_signal_derivative1  \\\n",
       "0                              NaN     635.368732                        NaN   \n",
       "1                         0.000275     633.147820                  -2.220912   \n",
       "2                         2.089974     629.315476                  -3.832344   \n",
       "3                         0.532977     626.664425                  -2.651051   \n",
       "4                         0.381816     628.319190                   1.654765   \n",
       "\n",
       "   ...  motion_outlier127  motion_outlier128  motion_outlier129  \\\n",
       "0  ...                0.0                0.0                0.0   \n",
       "1  ...                0.0                0.0                0.0   \n",
       "2  ...                0.0                0.0                0.0   \n",
       "3  ...                0.0                0.0                0.0   \n",
       "4  ...                0.0                0.0                0.0   \n",
       "\n",
       "   motion_outlier130  motion_outlier131  motion_outlier132  motion_outlier133  \\\n",
       "0                0.0                0.0                0.0                0.0   \n",
       "1                0.0                0.0                0.0                0.0   \n",
       "2                0.0                0.0                0.0                0.0   \n",
       "3                0.0                0.0                0.0                0.0   \n",
       "4                0.0                0.0                0.0                0.0   \n",
       "\n",
       "   motion_outlier134  motion_outlier135  motion_outlier136  \n",
       "0                0.0                0.0                0.0  \n",
       "1                0.0                0.0                0.0  \n",
       "2                0.0                0.0                0.0  \n",
       "3                0.0                0.0                0.0  \n",
       "4                0.0                0.0                0.0  \n",
       "\n",
       "[5 rows x 389 columns]"
      ]
     },
     "execution_count": 26,
     "metadata": {},
     "output_type": "execute_result"
    }
   ],
   "source": [
    "result = ds.get(file_list[0])\n",
    "\n",
    "confounds = pd.read_csv(file_list[0], sep='\\t')\n",
    "confounds.head()"
   ]
  },
  {
   "cell_type": "code",
   "execution_count": 28,
   "id": "85c312cb",
   "metadata": {},
   "outputs": [
    {
     "data": {
      "text/plain": [
       "['/bml/Data/Bank4/Forest_Therapy/MRI_data/Sherlock/fmriprep/sub-01/func/sub-01_denoise_crop_smooth6mm_task-sherlockPart1_space-MNI152NLin2009cAsym_desc-preproc_bold.nii.gz',\n",
       " '/bml/Data/Bank4/Forest_Therapy/MRI_data/Sherlock/fmriprep/sub-01/func/sub-01_denoise_crop_smooth6mm_task-sherlockPart2_space-MNI152NLin2009cAsym_desc-preproc_bold.nii.gz',\n",
       " '/bml/Data/Bank4/Forest_Therapy/MRI_data/Sherlock/fmriprep/sub-02/func/sub-02_denoise_crop_smooth6mm_task-sherlockPart1_space-MNI152NLin2009cAsym_desc-preproc_bold.nii.gz',\n",
       " '/bml/Data/Bank4/Forest_Therapy/MRI_data/Sherlock/fmriprep/sub-02/func/sub-02_denoise_crop_smooth6mm_task-sherlockPart2_space-MNI152NLin2009cAsym_desc-preproc_bold.nii.gz',\n",
       " '/bml/Data/Bank4/Forest_Therapy/MRI_data/Sherlock/fmriprep/sub-03/func/sub-03_denoise_crop_smooth6mm_task-sherlockPart1_space-MNI152NLin2009cAsym_desc-preproc_bold.nii.gz',\n",
       " '/bml/Data/Bank4/Forest_Therapy/MRI_data/Sherlock/fmriprep/sub-03/func/sub-03_denoise_crop_smooth6mm_task-sherlockPart2_space-MNI152NLin2009cAsym_desc-preproc_bold.nii.gz',\n",
       " '/bml/Data/Bank4/Forest_Therapy/MRI_data/Sherlock/fmriprep/sub-04/func/sub-04_denoise_crop_smooth6mm_task-sherlockPart1_space-MNI152NLin2009cAsym_desc-preproc_bold.nii.gz',\n",
       " '/bml/Data/Bank4/Forest_Therapy/MRI_data/Sherlock/fmriprep/sub-04/func/sub-04_denoise_crop_smooth6mm_task-sherlockPart2_space-MNI152NLin2009cAsym_desc-preproc_bold.nii.gz',\n",
       " '/bml/Data/Bank4/Forest_Therapy/MRI_data/Sherlock/fmriprep/sub-05/func/sub-05_denoise_crop_smooth6mm_task-sherlockPart1_space-MNI152NLin2009cAsym_desc-preproc_bold.nii.gz',\n",
       " '/bml/Data/Bank4/Forest_Therapy/MRI_data/Sherlock/fmriprep/sub-05/func/sub-05_denoise_crop_smooth6mm_task-sherlockPart2_space-MNI152NLin2009cAsym_desc-preproc_bold.nii.gz',\n",
       " '/bml/Data/Bank4/Forest_Therapy/MRI_data/Sherlock/fmriprep/sub-06/func/sub-06_denoise_crop_smooth6mm_task-sherlockPart1_space-MNI152NLin2009cAsym_desc-preproc_bold.nii.gz',\n",
       " '/bml/Data/Bank4/Forest_Therapy/MRI_data/Sherlock/fmriprep/sub-06/func/sub-06_denoise_crop_smooth6mm_task-sherlockPart2_space-MNI152NLin2009cAsym_desc-preproc_bold.nii.gz',\n",
       " '/bml/Data/Bank4/Forest_Therapy/MRI_data/Sherlock/fmriprep/sub-07/func/sub-07_denoise_crop_smooth6mm_task-sherlockPart1_space-MNI152NLin2009cAsym_desc-preproc_bold.nii.gz',\n",
       " '/bml/Data/Bank4/Forest_Therapy/MRI_data/Sherlock/fmriprep/sub-07/func/sub-07_denoise_crop_smooth6mm_task-sherlockPart2_space-MNI152NLin2009cAsym_desc-preproc_bold.nii.gz',\n",
       " '/bml/Data/Bank4/Forest_Therapy/MRI_data/Sherlock/fmriprep/sub-08/func/sub-08_denoise_crop_smooth6mm_task-sherlockPart1_space-MNI152NLin2009cAsym_desc-preproc_bold.nii.gz',\n",
       " '/bml/Data/Bank4/Forest_Therapy/MRI_data/Sherlock/fmriprep/sub-08/func/sub-08_denoise_crop_smooth6mm_task-sherlockPart2_space-MNI152NLin2009cAsym_desc-preproc_bold.nii.gz',\n",
       " '/bml/Data/Bank4/Forest_Therapy/MRI_data/Sherlock/fmriprep/sub-09/func/sub-09_denoise_crop_smooth6mm_task-sherlockPart1_space-MNI152NLin2009cAsym_desc-preproc_bold.nii.gz',\n",
       " '/bml/Data/Bank4/Forest_Therapy/MRI_data/Sherlock/fmriprep/sub-09/func/sub-09_denoise_crop_smooth6mm_task-sherlockPart2_space-MNI152NLin2009cAsym_desc-preproc_bold.nii.gz',\n",
       " '/bml/Data/Bank4/Forest_Therapy/MRI_data/Sherlock/fmriprep/sub-10/func/sub-10_denoise_crop_smooth6mm_task-sherlockPart1_space-MNI152NLin2009cAsym_desc-preproc_bold.nii.gz',\n",
       " '/bml/Data/Bank4/Forest_Therapy/MRI_data/Sherlock/fmriprep/sub-10/func/sub-10_denoise_crop_smooth6mm_task-sherlockPart2_space-MNI152NLin2009cAsym_desc-preproc_bold.nii.gz',\n",
       " '/bml/Data/Bank4/Forest_Therapy/MRI_data/Sherlock/fmriprep/sub-11/func/sub-11_denoise_crop_smooth6mm_task-sherlockPart1_space-MNI152NLin2009cAsym_desc-preproc_bold.nii.gz',\n",
       " '/bml/Data/Bank4/Forest_Therapy/MRI_data/Sherlock/fmriprep/sub-11/func/sub-11_denoise_crop_smooth6mm_task-sherlockPart2_space-MNI152NLin2009cAsym_desc-preproc_bold.nii.gz',\n",
       " '/bml/Data/Bank4/Forest_Therapy/MRI_data/Sherlock/fmriprep/sub-12/func/sub-12_denoise_crop_smooth6mm_task-sherlockPart1_space-MNI152NLin2009cAsym_desc-preproc_bold.nii.gz',\n",
       " '/bml/Data/Bank4/Forest_Therapy/MRI_data/Sherlock/fmriprep/sub-12/func/sub-12_denoise_crop_smooth6mm_task-sherlockPart2_space-MNI152NLin2009cAsym_desc-preproc_bold.nii.gz',\n",
       " '/bml/Data/Bank4/Forest_Therapy/MRI_data/Sherlock/fmriprep/sub-13/func/sub-13_denoise_crop_smooth6mm_task-sherlockPart1_space-MNI152NLin2009cAsym_desc-preproc_bold.nii.gz',\n",
       " '/bml/Data/Bank4/Forest_Therapy/MRI_data/Sherlock/fmriprep/sub-13/func/sub-13_denoise_crop_smooth6mm_task-sherlockPart2_space-MNI152NLin2009cAsym_desc-preproc_bold.nii.gz',\n",
       " '/bml/Data/Bank4/Forest_Therapy/MRI_data/Sherlock/fmriprep/sub-14/func/sub-14_denoise_crop_smooth6mm_task-sherlockPart1_space-MNI152NLin2009cAsym_desc-preproc_bold.nii.gz',\n",
       " '/bml/Data/Bank4/Forest_Therapy/MRI_data/Sherlock/fmriprep/sub-14/func/sub-14_denoise_crop_smooth6mm_task-sherlockPart2_space-MNI152NLin2009cAsym_desc-preproc_bold.nii.gz',\n",
       " '/bml/Data/Bank4/Forest_Therapy/MRI_data/Sherlock/fmriprep/sub-15/func/sub-15_denoise_crop_smooth6mm_task-sherlockPart1_space-MNI152NLin2009cAsym_desc-preproc_bold.nii.gz',\n",
       " '/bml/Data/Bank4/Forest_Therapy/MRI_data/Sherlock/fmriprep/sub-15/func/sub-15_denoise_crop_smooth6mm_task-sherlockPart2_space-MNI152NLin2009cAsym_desc-preproc_bold.nii.gz',\n",
       " '/bml/Data/Bank4/Forest_Therapy/MRI_data/Sherlock/fmriprep/sub-16/func/sub-16_denoise_crop_smooth6mm_task-sherlockPart1_space-MNI152NLin2009cAsym_desc-preproc_bold.nii.gz',\n",
       " '/bml/Data/Bank4/Forest_Therapy/MRI_data/Sherlock/fmriprep/sub-16/func/sub-16_denoise_crop_smooth6mm_task-sherlockPart2_space-MNI152NLin2009cAsym_desc-preproc_bold.nii.gz']"
      ]
     },
     "execution_count": 28,
     "metadata": {},
     "output_type": "execute_result"
    }
   ],
   "source": [
    "file_list = glob.glob(os.path.join(sherlock_path, 'fmriprep', '*', 'func', '*crop*nii.gz'))\n",
    "file_list.sort()\n",
    "file_list"
   ]
  },
  {
   "cell_type": "code",
   "execution_count": 29,
   "id": "cd596e6c",
   "metadata": {},
   "outputs": [
    {
     "name": "stdout",
     "output_type": "stream",
     "text": [
      "get(ok): fmriprep/sub-01/func/sub-01_denoise_crop_smooth6mm_task-sherlockPart1_space-MNI152NLin2009cAsym_desc-preproc_bold.nii.gz (file) [from origin...]\n"
     ]
    }
   ],
   "source": [
    "result = ds.get(file_list[0])"
   ]
  },
  {
   "cell_type": "code",
   "execution_count": 30,
   "id": "3fa326ed",
   "metadata": {},
   "outputs": [
    {
     "name": "stdout",
     "output_type": "stream",
     "text": [
      "1350 annex'd files (827.2 MB/109.0 GB present/total size)\n",
      "nothing to save, working tree clean\n"
     ]
    }
   ],
   "source": [
    "result = ds.status(annex='all')"
   ]
  },
  {
   "cell_type": "code",
   "execution_count": null,
   "id": "0893f38e",
   "metadata": {},
   "outputs": [],
   "source": []
  }
 ],
 "metadata": {
  "kernelspec": {
   "display_name": "naturalistic",
   "language": "python",
   "name": "naturalistic"
  },
  "language_info": {
   "codemirror_mode": {
    "name": "ipython",
    "version": 3
   },
   "file_extension": ".py",
   "mimetype": "text/x-python",
   "name": "python",
   "nbconvert_exporter": "python",
   "pygments_lexer": "ipython3",
   "version": "3.7.13"
  }
 },
 "nbformat": 4,
 "nbformat_minor": 5
}
